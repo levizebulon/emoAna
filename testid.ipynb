{
 "cells": [
  {
   "cell_type": "code",
   "execution_count": 1,
   "metadata": {},
   "outputs": [],
   "source": [
    "import numpy as np\n",
    "import pandas as pd"
   ]
  },
  {
   "cell_type": "code",
   "execution_count": 2,
   "metadata": {},
   "outputs": [],
   "source": [
    "data = pd.read_csv('Train/Train_DataSet.csv', encoding='utf-8')\n",
    "label = pd.read_csv('Train/Train_DataSet_Label.csv', encoding='utf-8')"
   ]
  },
  {
   "cell_type": "code",
   "execution_count": 3,
   "metadata": {},
   "outputs": [
    {
     "data": {
      "text/html": [
       "<div>\n",
       "<style scoped>\n",
       "    .dataframe tbody tr th:only-of-type {\n",
       "        vertical-align: middle;\n",
       "    }\n",
       "\n",
       "    .dataframe tbody tr th {\n",
       "        vertical-align: top;\n",
       "    }\n",
       "\n",
       "    .dataframe thead th {\n",
       "        text-align: right;\n",
       "    }\n",
       "</style>\n",
       "<table border=\"1\" class=\"dataframe\">\n",
       "  <thead>\n",
       "    <tr style=\"text-align: right;\">\n",
       "      <th></th>\n",
       "      <th>id</th>\n",
       "      <th>title</th>\n",
       "      <th>content</th>\n",
       "    </tr>\n",
       "  </thead>\n",
       "  <tbody>\n",
       "    <tr>\n",
       "      <th>0</th>\n",
       "      <td>7a3dd79f90ee419da87190cff60f7a86</td>\n",
       "      <td>问责领导(上黄镇党委书记张涛，宣国才真能一手遮天吗？)</td>\n",
       "      <td>这几天看了有人举报施某某的贴子，经与举报人联系证实，是宣某当天中午请举报人和枪手喝酒后，晚上...</td>\n",
       "    </tr>\n",
       "    <tr>\n",
       "      <th>1</th>\n",
       "      <td>7640a5589bc7486ca199eeeb38af79dd</td>\n",
       "      <td>江歌事件:教会孩子，善良的同时更要懂得保护自己!</td>\n",
       "      <td>过去一年的江歌悲剧，这几日再次刷屏：住在东京都中野区的中国女留学生江歌，收留了被前男友陈世锋...</td>\n",
       "    </tr>\n",
       "    <tr>\n",
       "      <th>2</th>\n",
       "      <td>8c5bda93e4ba401f90a0faa5b28fe57f</td>\n",
       "      <td>绝味鸭脖广告\"开黄腔\"引众怒 \"双11\"这么拼值吗?</td>\n",
       "      <td>“双11”1600亿的销售额让中国乃至全世界感到震惊，为此，不仅有不惜欠债百万的“剁手党”，...</td>\n",
       "    </tr>\n",
       "    <tr>\n",
       "      <th>3</th>\n",
       "      <td>1aa777fed31a4b8a9d866f05b5477557</td>\n",
       "      <td>央视曝光!如东一医药企业将槽罐车改成垃圾车，夜间偷排高浓度废水</td>\n",
       "      <td>2016年以来，如东高新区一家叫做拜瑞生物医药的企业竟然将装废水的槽罐车伪装成洒水车，常年在...</td>\n",
       "    </tr>\n",
       "    <tr>\n",
       "      <th>4</th>\n",
       "      <td>6c67ac55360340258e157f3710ebae6c</td>\n",
       "      <td>恶劣至极，央视都曝光了!南通如东一医药企业将槽罐车改成洒水车，夜间偷排高浓度废水...丢大发了!</td>\n",
       "      <td>新闻资讯•民生热点•城市生活•南通人都在看浏览更多资讯请关注微信公众号:南通传媒网昨晚央视一...</td>\n",
       "    </tr>\n",
       "  </tbody>\n",
       "</table>\n",
       "</div>"
      ],
      "text/plain": [
       "                                 id  \\\n",
       "0  7a3dd79f90ee419da87190cff60f7a86   \n",
       "1  7640a5589bc7486ca199eeeb38af79dd   \n",
       "2  8c5bda93e4ba401f90a0faa5b28fe57f   \n",
       "3  1aa777fed31a4b8a9d866f05b5477557   \n",
       "4  6c67ac55360340258e157f3710ebae6c   \n",
       "\n",
       "                                              title  \\\n",
       "0                       问责领导(上黄镇党委书记张涛，宣国才真能一手遮天吗？)   \n",
       "1                          江歌事件:教会孩子，善良的同时更要懂得保护自己!   \n",
       "2                        绝味鸭脖广告\"开黄腔\"引众怒 \"双11\"这么拼值吗?   \n",
       "3                   央视曝光!如东一医药企业将槽罐车改成垃圾车，夜间偷排高浓度废水   \n",
       "4  恶劣至极，央视都曝光了!南通如东一医药企业将槽罐车改成洒水车，夜间偷排高浓度废水...丢大发了!   \n",
       "\n",
       "                                             content  \n",
       "0  这几天看了有人举报施某某的贴子，经与举报人联系证实，是宣某当天中午请举报人和枪手喝酒后，晚上...  \n",
       "1  过去一年的江歌悲剧，这几日再次刷屏：住在东京都中野区的中国女留学生江歌，收留了被前男友陈世锋...  \n",
       "2  “双11”1600亿的销售额让中国乃至全世界感到震惊，为此，不仅有不惜欠债百万的“剁手党”，...  \n",
       "3  2016年以来，如东高新区一家叫做拜瑞生物医药的企业竟然将装废水的槽罐车伪装成洒水车，常年在...  \n",
       "4  新闻资讯•民生热点•城市生活•南通人都在看浏览更多资讯请关注微信公众号:南通传媒网昨晚央视一...  "
      ]
     },
     "execution_count": 3,
     "metadata": {},
     "output_type": "execute_result"
    }
   ],
   "source": [
    "data.head()"
   ]
  },
  {
   "cell_type": "code",
   "execution_count": 4,
   "metadata": {},
   "outputs": [
    {
     "data": {
      "text/html": [
       "<div>\n",
       "<style scoped>\n",
       "    .dataframe tbody tr th:only-of-type {\n",
       "        vertical-align: middle;\n",
       "    }\n",
       "\n",
       "    .dataframe tbody tr th {\n",
       "        vertical-align: top;\n",
       "    }\n",
       "\n",
       "    .dataframe thead th {\n",
       "        text-align: right;\n",
       "    }\n",
       "</style>\n",
       "<table border=\"1\" class=\"dataframe\">\n",
       "  <thead>\n",
       "    <tr style=\"text-align: right;\">\n",
       "      <th></th>\n",
       "      <th>id</th>\n",
       "      <th>label</th>\n",
       "    </tr>\n",
       "  </thead>\n",
       "  <tbody>\n",
       "    <tr>\n",
       "      <th>0</th>\n",
       "      <td>7a3dd79f90ee419da87190cff60f7a86</td>\n",
       "      <td>2</td>\n",
       "    </tr>\n",
       "    <tr>\n",
       "      <th>1</th>\n",
       "      <td>7640a5589bc7486ca199eeeb38af79dd</td>\n",
       "      <td>1</td>\n",
       "    </tr>\n",
       "    <tr>\n",
       "      <th>2</th>\n",
       "      <td>8c5bda93e4ba401f90a0faa5b28fe57f</td>\n",
       "      <td>2</td>\n",
       "    </tr>\n",
       "    <tr>\n",
       "      <th>3</th>\n",
       "      <td>1aa777fed31a4b8a9d866f05b5477557</td>\n",
       "      <td>2</td>\n",
       "    </tr>\n",
       "    <tr>\n",
       "      <th>4</th>\n",
       "      <td>6c67ac55360340258e157f3710ebae6c</td>\n",
       "      <td>2</td>\n",
       "    </tr>\n",
       "  </tbody>\n",
       "</table>\n",
       "</div>"
      ],
      "text/plain": [
       "                                 id  label\n",
       "0  7a3dd79f90ee419da87190cff60f7a86      2\n",
       "1  7640a5589bc7486ca199eeeb38af79dd      1\n",
       "2  8c5bda93e4ba401f90a0faa5b28fe57f      2\n",
       "3  1aa777fed31a4b8a9d866f05b5477557      2\n",
       "4  6c67ac55360340258e157f3710ebae6c      2"
      ]
     },
     "execution_count": 4,
     "metadata": {},
     "output_type": "execute_result"
    }
   ],
   "source": [
    "label.head()"
   ]
  },
  {
   "cell_type": "code",
   "execution_count": 5,
   "metadata": {},
   "outputs": [],
   "source": [
    "# data 一共有7345\n",
    "# label 一共有7355\n",
    "# label 比 data多10个\n",
    "# 前841项相同，从第842（索引841项开始不同）\n",
    "# test1 从841开始，将label向后挪10个, 结果发现到851-6550不同\n",
    "# 所以相同的部分是data.id[:842]+[6551:7345] == label[:842]+[6561:7355]"
   ]
  },
  {
   "cell_type": "code",
   "execution_count": 6,
   "metadata": {},
   "outputs": [
    {
     "name": "stdout",
     "output_type": "stream",
     "text": [
      "                                 id  \\\n",
      "0  7a3dd79f90ee419da87190cff60f7a86   \n",
      "1  7640a5589bc7486ca199eeeb38af79dd   \n",
      "2  8c5bda93e4ba401f90a0faa5b28fe57f   \n",
      "3  1aa777fed31a4b8a9d866f05b5477557   \n",
      "4  6c67ac55360340258e157f3710ebae6c   \n",
      "\n",
      "                                              title  \\\n",
      "0                       问责领导(上黄镇党委书记张涛，宣国才真能一手遮天吗？)   \n",
      "1                          江歌事件:教会孩子，善良的同时更要懂得保护自己!   \n",
      "2                        绝味鸭脖广告\"开黄腔\"引众怒 \"双11\"这么拼值吗?   \n",
      "3                   央视曝光!如东一医药企业将槽罐车改成垃圾车，夜间偷排高浓度废水   \n",
      "4  恶劣至极，央视都曝光了!南通如东一医药企业将槽罐车改成洒水车，夜间偷排高浓度废水...丢大发了!   \n",
      "\n",
      "                                             content  \n",
      "0  这几天看了有人举报施某某的贴子，经与举报人联系证实，是宣某当天中午请举报人和枪手喝酒后，晚上...  \n",
      "1  过去一年的江歌悲剧，这几日再次刷屏：住在东京都中野区的中国女留学生江歌，收留了被前男友陈世锋...  \n",
      "2  “双11”1600亿的销售额让中国乃至全世界感到震惊，为此，不仅有不惜欠债百万的“剁手党”，...  \n",
      "3  2016年以来，如东高新区一家叫做拜瑞生物医药的企业竟然将装废水的槽罐车伪装成洒水车，常年在...  \n",
      "4  新闻资讯•民生热点•城市生活•南通人都在看浏览更多资讯请关注微信公众号:南通传媒网昨晚央视一...  \n",
      "                                 id  label\n",
      "0  7a3dd79f90ee419da87190cff60f7a86      2\n",
      "1  7640a5589bc7486ca199eeeb38af79dd      1\n",
      "2  8c5bda93e4ba401f90a0faa5b28fe57f      2\n",
      "3  1aa777fed31a4b8a9d866f05b5477557      2\n",
      "4  6c67ac55360340258e157f3710ebae6c      2\n"
     ]
    }
   ],
   "source": [
    "datatest = data.head()\n",
    "labeltest = label.head()\n",
    "print(datatest)\n",
    "print(labeltest)"
   ]
  },
  {
   "cell_type": "code",
   "execution_count": 7,
   "metadata": {},
   "outputs": [],
   "source": [
    "result_merge = pd.merge(datatest, labeltest)"
   ]
  },
  {
   "cell_type": "code",
   "execution_count": 8,
   "metadata": {},
   "outputs": [],
   "source": [
    "result_merge.to_csv('result_merge.csv')"
   ]
  },
  {
   "cell_type": "code",
   "execution_count": 12,
   "metadata": {},
   "outputs": [],
   "source": [
    "read_result_merge = pd.read_csv('result_merge.csv', encoding='utf-8')"
   ]
  },
  {
   "cell_type": "code",
   "execution_count": 13,
   "metadata": {},
   "outputs": [
    {
     "name": "stdout",
     "output_type": "stream",
     "text": [
      "   Unnamed: 0                                id  \\\n",
      "0           0  7a3dd79f90ee419da87190cff60f7a86   \n",
      "1           1  7640a5589bc7486ca199eeeb38af79dd   \n",
      "2           2  8c5bda93e4ba401f90a0faa5b28fe57f   \n",
      "3           3  1aa777fed31a4b8a9d866f05b5477557   \n",
      "4           4  6c67ac55360340258e157f3710ebae6c   \n",
      "\n",
      "                                              title  \\\n",
      "0                       问责领导(上黄镇党委书记张涛，宣国才真能一手遮天吗？)   \n",
      "1                          江歌事件:教会孩子，善良的同时更要懂得保护自己!   \n",
      "2                        绝味鸭脖广告\"开黄腔\"引众怒 \"双11\"这么拼值吗?   \n",
      "3                   央视曝光!如东一医药企业将槽罐车改成垃圾车，夜间偷排高浓度废水   \n",
      "4  恶劣至极，央视都曝光了!南通如东一医药企业将槽罐车改成洒水车，夜间偷排高浓度废水...丢大发了!   \n",
      "\n",
      "                                             content  label  \n",
      "0  这几天看了有人举报施某某的贴子，经与举报人联系证实，是宣某当天中午请举报人和枪手喝酒后，晚上...      2  \n",
      "1  过去一年的江歌悲剧，这几日再次刷屏：住在东京都中野区的中国女留学生江歌，收留了被前男友陈世锋...      1  \n",
      "2  “双11”1600亿的销售额让中国乃至全世界感到震惊，为此，不仅有不惜欠债百万的“剁手党”，...      2  \n",
      "3  2016年以来，如东高新区一家叫做拜瑞生物医药的企业竟然将装废水的槽罐车伪装成洒水车，常年在...      2  \n",
      "4  新闻资讯•民生热点•城市生活•南通人都在看浏览更多资讯请关注微信公众号:南通传媒网昨晚央视一...      2  \n"
     ]
    }
   ],
   "source": [
    "print(read_result_merge)"
   ]
  },
  {
   "cell_type": "code",
   "execution_count": 14,
   "metadata": {},
   "outputs": [],
   "source": [
    "table_merge = pd.merge(data, label)\n",
    "table_merge.to_csv('table_merge.csv')"
   ]
  },
  {
   "cell_type": "code",
   "execution_count": 15,
   "metadata": {},
   "outputs": [],
   "source": [
    "data_merge = pd.read_csv('table_merge.csv', encoding='utf-8')"
   ]
  },
  {
   "cell_type": "code",
   "execution_count": 16,
   "metadata": {},
   "outputs": [
    {
     "data": {
      "text/html": [
       "<div>\n",
       "<style scoped>\n",
       "    .dataframe tbody tr th:only-of-type {\n",
       "        vertical-align: middle;\n",
       "    }\n",
       "\n",
       "    .dataframe tbody tr th {\n",
       "        vertical-align: top;\n",
       "    }\n",
       "\n",
       "    .dataframe thead th {\n",
       "        text-align: right;\n",
       "    }\n",
       "</style>\n",
       "<table border=\"1\" class=\"dataframe\">\n",
       "  <thead>\n",
       "    <tr style=\"text-align: right;\">\n",
       "      <th></th>\n",
       "      <th>Unnamed: 0</th>\n",
       "      <th>id</th>\n",
       "      <th>title</th>\n",
       "      <th>content</th>\n",
       "      <th>label</th>\n",
       "    </tr>\n",
       "  </thead>\n",
       "  <tbody>\n",
       "    <tr>\n",
       "      <th>7335</th>\n",
       "      <td>7335</td>\n",
       "      <td>0a8fbc25ea6a4241b9069919a8a88e1d</td>\n",
       "      <td>珊瑚裸尾鼠：首个因全球气候变暖灭绝的哺乳动物</td>\n",
       "      <td>凯文登上前往澳大利亚的飞机，飞机缓缓起飞，凯文打开手里的笔记本，笔记本的第一页贴着一张泛黄的...</td>\n",
       "      <td>2</td>\n",
       "    </tr>\n",
       "    <tr>\n",
       "      <th>7336</th>\n",
       "      <td>7336</td>\n",
       "      <td>54ef19d3fb1e4b8b8415623892868275</td>\n",
       "      <td>独居老人做饭忘关火 南通志愿者及时发现转危为安</td>\n",
       "      <td>江海明珠网讯（记者 修雨竹 汤思敏）前两天，港闸区秦灶林荫水岸小区一位老人独自在家烧煮时，竟...</td>\n",
       "      <td>2</td>\n",
       "    </tr>\n",
       "    <tr>\n",
       "      <th>7337</th>\n",
       "      <td>7337</td>\n",
       "      <td>0a9a42f8a78545f9b979fe5c7d33b33f</td>\n",
       "      <td>被生意上的人给利用合同诈骗，诈骗三十万够判多少年--在..._律师365</td>\n",
       "      <td>1、诈骗罪量刑标准之加重处罚情形:\\n诈骗数额在10万元以上，又具有下列情形之一的，也应认定...</td>\n",
       "      <td>2</td>\n",
       "    </tr>\n",
       "    <tr>\n",
       "      <th>7338</th>\n",
       "      <td>7338</td>\n",
       "      <td>87aca93ec1074c37a5e1ff14f9cdb253</td>\n",
       "      <td>奎山汽贸城去年那场火灾，调查情况报告出来了！</td>\n",
       "      <td>26日，日照经济技术开发区发布《关于奎山汽贸城“11•14”火灾事故调查情况的报告》。201...</td>\n",
       "      <td>2</td>\n",
       "    </tr>\n",
       "    <tr>\n",
       "      <th>7339</th>\n",
       "      <td>7339</td>\n",
       "      <td>68680bb34bcf4829a04169885b4d92ff</td>\n",
       "      <td>曝光台•调查｜市场消防通道被长期霸占？事情并非想象的那样</td>\n",
       "      <td>消防通道是生命通道，一旦被占用，当发生火灾等突发状况，消防车辆将无法正常进出，会给小区居民生...</td>\n",
       "      <td>2</td>\n",
       "    </tr>\n",
       "  </tbody>\n",
       "</table>\n",
       "</div>"
      ],
      "text/plain": [
       "      Unnamed: 0                                id  \\\n",
       "7335        7335  0a8fbc25ea6a4241b9069919a8a88e1d   \n",
       "7336        7336  54ef19d3fb1e4b8b8415623892868275   \n",
       "7337        7337  0a9a42f8a78545f9b979fe5c7d33b33f   \n",
       "7338        7338  87aca93ec1074c37a5e1ff14f9cdb253   \n",
       "7339        7339  68680bb34bcf4829a04169885b4d92ff   \n",
       "\n",
       "                                     title  \\\n",
       "7335                珊瑚裸尾鼠：首个因全球气候变暖灭绝的哺乳动物   \n",
       "7336               独居老人做饭忘关火 南通志愿者及时发现转危为安   \n",
       "7337  被生意上的人给利用合同诈骗，诈骗三十万够判多少年--在..._律师365   \n",
       "7338                奎山汽贸城去年那场火灾，调查情况报告出来了！   \n",
       "7339          曝光台•调查｜市场消防通道被长期霸占？事情并非想象的那样   \n",
       "\n",
       "                                                content  label  \n",
       "7335  凯文登上前往澳大利亚的飞机，飞机缓缓起飞，凯文打开手里的笔记本，笔记本的第一页贴着一张泛黄的...      2  \n",
       "7336  江海明珠网讯（记者 修雨竹 汤思敏）前两天，港闸区秦灶林荫水岸小区一位老人独自在家烧煮时，竟...      2  \n",
       "7337  1、诈骗罪量刑标准之加重处罚情形:\\n诈骗数额在10万元以上，又具有下列情形之一的，也应认定...      2  \n",
       "7338  26日，日照经济技术开发区发布《关于奎山汽贸城“11•14”火灾事故调查情况的报告》。201...      2  \n",
       "7339  消防通道是生命通道，一旦被占用，当发生火灾等突发状况，消防车辆将无法正常进出，会给小区居民生...      2  "
      ]
     },
     "execution_count": 16,
     "metadata": {},
     "output_type": "execute_result"
    }
   ],
   "source": [
    "data_merge.tail()"
   ]
  },
  {
   "cell_type": "code",
   "execution_count": null,
   "metadata": {},
   "outputs": [],
   "source": []
  }
 ],
 "metadata": {
  "kernelspec": {
   "display_name": "Python 3",
   "language": "python",
   "name": "python3"
  },
  "language_info": {
   "codemirror_mode": {
    "name": "ipython",
    "version": 3
   },
   "file_extension": ".py",
   "mimetype": "text/x-python",
   "name": "python",
   "nbconvert_exporter": "python",
   "pygments_lexer": "ipython3",
   "version": "3.7.0"
  }
 },
 "nbformat": 4,
 "nbformat_minor": 2
}
