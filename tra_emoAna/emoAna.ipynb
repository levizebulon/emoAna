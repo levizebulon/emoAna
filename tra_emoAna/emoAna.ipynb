{
 "cells": [
  {
   "cell_type": "markdown",
   "metadata": {},
   "source": [
    "## 导入数据 ##"
   ]
  },
  {
   "cell_type": "code",
   "execution_count": 1,
   "metadata": {},
   "outputs": [],
   "source": [
    "import numpy as np\n",
    "import pandas as pd"
   ]
  },
  {
   "cell_type": "code",
   "execution_count": 2,
   "metadata": {},
   "outputs": [],
   "source": [
    "data = pd.read_csv('Train/Train_DataSet.csv', encoding='utf-8')\n",
    "label = pd.read_csv('Train/Train_DataSet_Label.csv', encoding='utf-8')"
   ]
  },
  {
   "cell_type": "code",
   "execution_count": 3,
   "metadata": {},
   "outputs": [
    {
     "data": {
      "text/plain": [
       "<bound method NDFrame.head of                                     id  \\\n",
       "0     7a3dd79f90ee419da87190cff60f7a86   \n",
       "1     7640a5589bc7486ca199eeeb38af79dd   \n",
       "2     8c5bda93e4ba401f90a0faa5b28fe57f   \n",
       "3     1aa777fed31a4b8a9d866f05b5477557   \n",
       "4     6c67ac55360340258e157f3710ebae6c   \n",
       "...                                ...   \n",
       "7340  0a8fbc25ea6a4241b9069919a8a88e1d   \n",
       "7341  54ef19d3fb1e4b8b8415623892868275   \n",
       "7342  0a9a42f8a78545f9b979fe5c7d33b33f   \n",
       "7343  87aca93ec1074c37a5e1ff14f9cdb253   \n",
       "7344  68680bb34bcf4829a04169885b4d92ff   \n",
       "\n",
       "                                                 title  \\\n",
       "0                          问责领导(上黄镇党委书记张涛，宣国才真能一手遮天吗？)   \n",
       "1                             江歌事件:教会孩子，善良的同时更要懂得保护自己!   \n",
       "2                           绝味鸭脖广告\"开黄腔\"引众怒 \"双11\"这么拼值吗?   \n",
       "3                      央视曝光!如东一医药企业将槽罐车改成垃圾车，夜间偷排高浓度废水   \n",
       "4     恶劣至极，央视都曝光了!南通如东一医药企业将槽罐车改成洒水车，夜间偷排高浓度废水...丢大发了!   \n",
       "...                                                ...   \n",
       "7340                            珊瑚裸尾鼠：首个因全球气候变暖灭绝的哺乳动物   \n",
       "7341                           独居老人做饭忘关火 南通志愿者及时发现转危为安   \n",
       "7342              被生意上的人给利用合同诈骗，诈骗三十万够判多少年--在..._律师365   \n",
       "7343                            奎山汽贸城去年那场火灾，调查情况报告出来了！   \n",
       "7344                      曝光台•调查｜市场消防通道被长期霸占？事情并非想象的那样   \n",
       "\n",
       "                                                content  \n",
       "0     这几天看了有人举报施某某的贴子，经与举报人联系证实，是宣某当天中午请举报人和枪手喝酒后，晚上...  \n",
       "1     过去一年的江歌悲剧，这几日再次刷屏：住在东京都中野区的中国女留学生江歌，收留了被前男友陈世锋...  \n",
       "2     “双11”1600亿的销售额让中国乃至全世界感到震惊，为此，不仅有不惜欠债百万的“剁手党”，...  \n",
       "3     2016年以来，如东高新区一家叫做拜瑞生物医药的企业竟然将装废水的槽罐车伪装成洒水车，常年在...  \n",
       "4     新闻资讯•民生热点•城市生活•南通人都在看浏览更多资讯请关注微信公众号:南通传媒网昨晚央视一...  \n",
       "...                                                 ...  \n",
       "7340  凯文登上前往澳大利亚的飞机，飞机缓缓起飞，凯文打开手里的笔记本，笔记本的第一页贴着一张泛黄的...  \n",
       "7341  江海明珠网讯（记者 修雨竹 汤思敏）前两天，港闸区秦灶林荫水岸小区一位老人独自在家烧煮时，竟...  \n",
       "7342  1、诈骗罪量刑标准之加重处罚情形:\\n诈骗数额在10万元以上，又具有下列情形之一的，也应认定...  \n",
       "7343  26日，日照经济技术开发区发布《关于奎山汽贸城“11•14”火灾事故调查情况的报告》。201...  \n",
       "7344  消防通道是生命通道，一旦被占用，当发生火灾等突发状况，消防车辆将无法正常进出，会给小区居民生...  \n",
       "\n",
       "[7345 rows x 3 columns]>"
      ]
     },
     "execution_count": 3,
     "metadata": {},
     "output_type": "execute_result"
    }
   ],
   "source": [
    "data.head"
   ]
  },
  {
   "cell_type": "markdown",
   "metadata": {},
   "source": [
    "## 将两个表按照id合并成一张表"
   ]
  },
  {
   "cell_type": "code",
   "execution_count": 4,
   "metadata": {},
   "outputs": [],
   "source": [
    "table_merge = pd.merge(data, label)"
   ]
  },
  {
   "cell_type": "code",
   "execution_count": 5,
   "metadata": {},
   "outputs": [
    {
     "data": {
      "text/html": [
       "<div>\n",
       "<style scoped>\n",
       "    .dataframe tbody tr th:only-of-type {\n",
       "        vertical-align: middle;\n",
       "    }\n",
       "\n",
       "    .dataframe tbody tr th {\n",
       "        vertical-align: top;\n",
       "    }\n",
       "\n",
       "    .dataframe thead th {\n",
       "        text-align: right;\n",
       "    }\n",
       "</style>\n",
       "<table border=\"1\" class=\"dataframe\">\n",
       "  <thead>\n",
       "    <tr style=\"text-align: right;\">\n",
       "      <th></th>\n",
       "      <th>id</th>\n",
       "      <th>title</th>\n",
       "      <th>content</th>\n",
       "      <th>label</th>\n",
       "    </tr>\n",
       "  </thead>\n",
       "  <tbody>\n",
       "    <tr>\n",
       "      <th>0</th>\n",
       "      <td>7a3dd79f90ee419da87190cff60f7a86</td>\n",
       "      <td>问责领导(上黄镇党委书记张涛，宣国才真能一手遮天吗？)</td>\n",
       "      <td>这几天看了有人举报施某某的贴子，经与举报人联系证实，是宣某当天中午请举报人和枪手喝酒后，晚上...</td>\n",
       "      <td>2</td>\n",
       "    </tr>\n",
       "    <tr>\n",
       "      <th>1</th>\n",
       "      <td>7640a5589bc7486ca199eeeb38af79dd</td>\n",
       "      <td>江歌事件:教会孩子，善良的同时更要懂得保护自己!</td>\n",
       "      <td>过去一年的江歌悲剧，这几日再次刷屏：住在东京都中野区的中国女留学生江歌，收留了被前男友陈世锋...</td>\n",
       "      <td>1</td>\n",
       "    </tr>\n",
       "    <tr>\n",
       "      <th>2</th>\n",
       "      <td>8c5bda93e4ba401f90a0faa5b28fe57f</td>\n",
       "      <td>绝味鸭脖广告\"开黄腔\"引众怒 \"双11\"这么拼值吗?</td>\n",
       "      <td>“双11”1600亿的销售额让中国乃至全世界感到震惊，为此，不仅有不惜欠债百万的“剁手党”，...</td>\n",
       "      <td>2</td>\n",
       "    </tr>\n",
       "    <tr>\n",
       "      <th>3</th>\n",
       "      <td>1aa777fed31a4b8a9d866f05b5477557</td>\n",
       "      <td>央视曝光!如东一医药企业将槽罐车改成垃圾车，夜间偷排高浓度废水</td>\n",
       "      <td>2016年以来，如东高新区一家叫做拜瑞生物医药的企业竟然将装废水的槽罐车伪装成洒水车，常年在...</td>\n",
       "      <td>2</td>\n",
       "    </tr>\n",
       "    <tr>\n",
       "      <th>4</th>\n",
       "      <td>6c67ac55360340258e157f3710ebae6c</td>\n",
       "      <td>恶劣至极，央视都曝光了!南通如东一医药企业将槽罐车改成洒水车，夜间偷排高浓度废水...丢大发了!</td>\n",
       "      <td>新闻资讯•民生热点•城市生活•南通人都在看浏览更多资讯请关注微信公众号:南通传媒网昨晚央视一...</td>\n",
       "      <td>2</td>\n",
       "    </tr>\n",
       "  </tbody>\n",
       "</table>\n",
       "</div>"
      ],
      "text/plain": [
       "                                 id  \\\n",
       "0  7a3dd79f90ee419da87190cff60f7a86   \n",
       "1  7640a5589bc7486ca199eeeb38af79dd   \n",
       "2  8c5bda93e4ba401f90a0faa5b28fe57f   \n",
       "3  1aa777fed31a4b8a9d866f05b5477557   \n",
       "4  6c67ac55360340258e157f3710ebae6c   \n",
       "\n",
       "                                              title  \\\n",
       "0                       问责领导(上黄镇党委书记张涛，宣国才真能一手遮天吗？)   \n",
       "1                          江歌事件:教会孩子，善良的同时更要懂得保护自己!   \n",
       "2                        绝味鸭脖广告\"开黄腔\"引众怒 \"双11\"这么拼值吗?   \n",
       "3                   央视曝光!如东一医药企业将槽罐车改成垃圾车，夜间偷排高浓度废水   \n",
       "4  恶劣至极，央视都曝光了!南通如东一医药企业将槽罐车改成洒水车，夜间偷排高浓度废水...丢大发了!   \n",
       "\n",
       "                                             content  label  \n",
       "0  这几天看了有人举报施某某的贴子，经与举报人联系证实，是宣某当天中午请举报人和枪手喝酒后，晚上...      2  \n",
       "1  过去一年的江歌悲剧，这几日再次刷屏：住在东京都中野区的中国女留学生江歌，收留了被前男友陈世锋...      1  \n",
       "2  “双11”1600亿的销售额让中国乃至全世界感到震惊，为此，不仅有不惜欠债百万的“剁手党”，...      2  \n",
       "3  2016年以来，如东高新区一家叫做拜瑞生物医药的企业竟然将装废水的槽罐车伪装成洒水车，常年在...      2  \n",
       "4  新闻资讯•民生热点•城市生活•南通人都在看浏览更多资讯请关注微信公众号:南通传媒网昨晚央视一...      2  "
      ]
     },
     "execution_count": 5,
     "metadata": {},
     "output_type": "execute_result"
    }
   ],
   "source": [
    "table_merge.head()"
   ]
  },
  {
   "cell_type": "markdown",
   "metadata": {},
   "source": [
    "## 数据类型转换 ##"
   ]
  },
  {
   "cell_type": "code",
   "execution_count": 6,
   "metadata": {},
   "outputs": [
    {
     "data": {
      "text/plain": [
       "0       这几天看了有人举报施某某的贴子，经与举报人联系证实，是宣某当天中午请举报人和枪手喝酒后，晚上...\n",
       "1       过去一年的江歌悲剧，这几日再次刷屏：住在东京都中野区的中国女留学生江歌，收留了被前男友陈世锋...\n",
       "2       “双11”1600亿的销售额让中国乃至全世界感到震惊，为此，不仅有不惜欠债百万的“剁手党”，...\n",
       "3       2016年以来，如东高新区一家叫做拜瑞生物医药的企业竟然将装废水的槽罐车伪装成洒水车，常年在...\n",
       "4       新闻资讯•民生热点•城市生活•南通人都在看浏览更多资讯请关注微信公众号:南通传媒网昨晚央视一...\n",
       "                              ...                        \n",
       "7335    凯文登上前往澳大利亚的飞机，飞机缓缓起飞，凯文打开手里的笔记本，笔记本的第一页贴着一张泛黄的...\n",
       "7336    江海明珠网讯（记者 修雨竹 汤思敏）前两天，港闸区秦灶林荫水岸小区一位老人独自在家烧煮时，竟...\n",
       "7337    1、诈骗罪量刑标准之加重处罚情形:\\n诈骗数额在10万元以上，又具有下列情形之一的，也应认定...\n",
       "7338    26日，日照经济技术开发区发布《关于奎山汽贸城“11•14”火灾事故调查情况的报告》。201...\n",
       "7339    消防通道是生命通道，一旦被占用，当发生火灾等突发状况，消防车辆将无法正常进出，会给小区居民生...\n",
       "Name: content, Length: 7340, dtype: object"
      ]
     },
     "execution_count": 6,
     "metadata": {},
     "output_type": "execute_result"
    }
   ],
   "source": [
    "table_merge['title'] = table_merge['title'].astype('str')\n",
    "table_merge['content'] = table_merge['content'].astype('str')\n",
    "table_merge['label'] = table_merge['label'].astype('int')\n",
    "\n",
    "# table_merge['content'] = table_merge['title'] +  table_merge['content']\n",
    "table_merge['content'].str.cat(table_merge['title'])"
   ]
  },
  {
   "cell_type": "code",
   "execution_count": 7,
   "metadata": {},
   "outputs": [
    {
     "data": {
      "text/html": [
       "<div>\n",
       "<style scoped>\n",
       "    .dataframe tbody tr th:only-of-type {\n",
       "        vertical-align: middle;\n",
       "    }\n",
       "\n",
       "    .dataframe tbody tr th {\n",
       "        vertical-align: top;\n",
       "    }\n",
       "\n",
       "    .dataframe thead th {\n",
       "        text-align: right;\n",
       "    }\n",
       "</style>\n",
       "<table border=\"1\" class=\"dataframe\">\n",
       "  <thead>\n",
       "    <tr style=\"text-align: right;\">\n",
       "      <th></th>\n",
       "      <th>id</th>\n",
       "      <th>title</th>\n",
       "      <th>content</th>\n",
       "      <th>label</th>\n",
       "    </tr>\n",
       "  </thead>\n",
       "  <tbody>\n",
       "    <tr>\n",
       "      <th>0</th>\n",
       "      <td>7a3dd79f90ee419da87190cff60f7a86</td>\n",
       "      <td>问责领导(上黄镇党委书记张涛，宣国才真能一手遮天吗？)</td>\n",
       "      <td>这几天看了有人举报施某某的贴子，经与举报人联系证实，是宣某当天中午请举报人和枪手喝酒后，晚上...</td>\n",
       "      <td>2</td>\n",
       "    </tr>\n",
       "    <tr>\n",
       "      <th>1</th>\n",
       "      <td>7640a5589bc7486ca199eeeb38af79dd</td>\n",
       "      <td>江歌事件:教会孩子，善良的同时更要懂得保护自己!</td>\n",
       "      <td>过去一年的江歌悲剧，这几日再次刷屏：住在东京都中野区的中国女留学生江歌，收留了被前男友陈世锋...</td>\n",
       "      <td>1</td>\n",
       "    </tr>\n",
       "    <tr>\n",
       "      <th>2</th>\n",
       "      <td>8c5bda93e4ba401f90a0faa5b28fe57f</td>\n",
       "      <td>绝味鸭脖广告\"开黄腔\"引众怒 \"双11\"这么拼值吗?</td>\n",
       "      <td>“双11”1600亿的销售额让中国乃至全世界感到震惊，为此，不仅有不惜欠债百万的“剁手党”，...</td>\n",
       "      <td>2</td>\n",
       "    </tr>\n",
       "    <tr>\n",
       "      <th>3</th>\n",
       "      <td>1aa777fed31a4b8a9d866f05b5477557</td>\n",
       "      <td>央视曝光!如东一医药企业将槽罐车改成垃圾车，夜间偷排高浓度废水</td>\n",
       "      <td>2016年以来，如东高新区一家叫做拜瑞生物医药的企业竟然将装废水的槽罐车伪装成洒水车，常年在...</td>\n",
       "      <td>2</td>\n",
       "    </tr>\n",
       "    <tr>\n",
       "      <th>4</th>\n",
       "      <td>6c67ac55360340258e157f3710ebae6c</td>\n",
       "      <td>恶劣至极，央视都曝光了!南通如东一医药企业将槽罐车改成洒水车，夜间偷排高浓度废水...丢大发了!</td>\n",
       "      <td>新闻资讯•民生热点•城市生活•南通人都在看浏览更多资讯请关注微信公众号:南通传媒网昨晚央视一...</td>\n",
       "      <td>2</td>\n",
       "    </tr>\n",
       "  </tbody>\n",
       "</table>\n",
       "</div>"
      ],
      "text/plain": [
       "                                 id  \\\n",
       "0  7a3dd79f90ee419da87190cff60f7a86   \n",
       "1  7640a5589bc7486ca199eeeb38af79dd   \n",
       "2  8c5bda93e4ba401f90a0faa5b28fe57f   \n",
       "3  1aa777fed31a4b8a9d866f05b5477557   \n",
       "4  6c67ac55360340258e157f3710ebae6c   \n",
       "\n",
       "                                              title  \\\n",
       "0                       问责领导(上黄镇党委书记张涛，宣国才真能一手遮天吗？)   \n",
       "1                          江歌事件:教会孩子，善良的同时更要懂得保护自己!   \n",
       "2                        绝味鸭脖广告\"开黄腔\"引众怒 \"双11\"这么拼值吗?   \n",
       "3                   央视曝光!如东一医药企业将槽罐车改成垃圾车，夜间偷排高浓度废水   \n",
       "4  恶劣至极，央视都曝光了!南通如东一医药企业将槽罐车改成洒水车，夜间偷排高浓度废水...丢大发了!   \n",
       "\n",
       "                                             content  label  \n",
       "0  这几天看了有人举报施某某的贴子，经与举报人联系证实，是宣某当天中午请举报人和枪手喝酒后，晚上...      2  \n",
       "1  过去一年的江歌悲剧，这几日再次刷屏：住在东京都中野区的中国女留学生江歌，收留了被前男友陈世锋...      1  \n",
       "2  “双11”1600亿的销售额让中国乃至全世界感到震惊，为此，不仅有不惜欠债百万的“剁手党”，...      2  \n",
       "3  2016年以来，如东高新区一家叫做拜瑞生物医药的企业竟然将装废水的槽罐车伪装成洒水车，常年在...      2  \n",
       "4  新闻资讯•民生热点•城市生活•南通人都在看浏览更多资讯请关注微信公众号:南通传媒网昨晚央视一...      2  "
      ]
     },
     "execution_count": 7,
     "metadata": {},
     "output_type": "execute_result"
    }
   ],
   "source": [
    "table_merge.head()"
   ]
  },
  {
   "cell_type": "markdown",
   "metadata": {},
   "source": [
    "## 分词 ##"
   ]
  },
  {
   "cell_type": "code",
   "execution_count": 8,
   "metadata": {},
   "outputs": [
    {
     "name": "stderr",
     "output_type": "stream",
     "text": [
      "Building prefix dict from the default dictionary ...\n",
      "Dumping model to file cache /tmp/jieba.cache\n",
      "Loading model cost 0.925 seconds.\n",
      "Prefix dict has been built succesfully.\n"
     ]
    }
   ],
   "source": [
    "import jieba\n",
    "\n",
    "def chinese_word_cut(mytext):\n",
    "    return \" \".join(jieba.cut(mytext))\n",
    "\n",
    "\n",
    "table_merge['cut_content'] = table_merge.content.apply(chinese_word_cut)"
   ]
  },
  {
   "cell_type": "code",
   "execution_count": 9,
   "metadata": {},
   "outputs": [
    {
     "name": "stdout",
     "output_type": "stream",
     "text": [
      "0       这 几天 看 了 有人 举报 施 某某 的 贴子 ， 经 与 举报人 联系 证实 ， 是 宣...\n",
      "1       过去 一年 的 江歌 悲剧 ， 这 几日 再次 刷屏 ： 住 在 东京都 中野 区 的 中国...\n",
      "2       “ 双 11 ” 1600 亿 的 销售额 让 中国 乃至 全世界 感到 震惊 ， 为此 ，...\n",
      "3       2016 年 以来 ， 如东 高新区 一家 叫做 拜瑞 生物医药 的 企业 竟然 将装 废水...\n",
      "4       新闻资讯 • 民生 热点 • 城市 生活 • 南通人 都 在 看 浏览 更 多 资讯 请 关...\n",
      "                              ...                        \n",
      "7335    凯文 登上 前往 澳大利亚 的 飞机 ， 飞机 缓缓 起飞 ， 凯文 打开 手里 的 笔记本...\n",
      "7336    江海 明珠 网讯 （ 记者   修雨竹   汤思敏 ） 前两天 ， 港闸区 秦灶 林荫 水岸...\n",
      "7337    1 、 诈骗罪 量刑 标准 之 加重 处罚 情形 : \\ n 诈骗 数额 在 10 万元 以...\n",
      "7338    26 日 ， 日照 经济 技术开发区 发布 《 关于 奎山 汽贸 城 “ 11 • 14 ”...\n",
      "7339    消防通道 是 生命 通道 ， 一旦 被 占用 ， 当 发生 火灾 等 突发状况 ， 消防 车...\n",
      "Name: cut_content, Length: 7340, dtype: object\n"
     ]
    }
   ],
   "source": [
    "# print(data['cut_comment'])\n",
    "print(table_merge['cut_content'])"
   ]
  },
  {
   "cell_type": "code",
   "execution_count": 10,
   "metadata": {},
   "outputs": [
    {
     "name": "stdout",
     "output_type": "stream",
     "text": [
      "0       2\n",
      "1       1\n",
      "2       2\n",
      "3       2\n",
      "4       2\n",
      "       ..\n",
      "7335    2\n",
      "7336    2\n",
      "7337    2\n",
      "7338    2\n",
      "7339    2\n",
      "Name: label, Length: 7340, dtype: int64\n"
     ]
    }
   ],
   "source": [
    "print(table_merge['label'])"
   ]
  },
  {
   "cell_type": "markdown",
   "metadata": {},
   "source": [
    "## 划分数据集 ##"
   ]
  },
  {
   "cell_type": "code",
   "execution_count": 11,
   "metadata": {},
   "outputs": [
    {
     "name": "stdout",
     "output_type": "stream",
     "text": [
      "(7340,)\n",
      "(7340,)\n"
     ]
    }
   ],
   "source": [
    "X = table_merge['cut_content']\n",
    "y = table_merge['label']\n",
    "\n",
    "print(X.shape)\n",
    "print(y.shape)"
   ]
  },
  {
   "cell_type": "code",
   "execution_count": 12,
   "metadata": {},
   "outputs": [],
   "source": [
    "from sklearn.model_selection import train_test_split\n",
    "\n",
    "X_train, X_test, y_train, y_test = train_test_split(X, y, test_size=0.1, random_state=22)\n",
    "# print(y_train)\n",
    "# X_train = X\n",
    "# y_train = y"
   ]
  },
  {
   "cell_type": "markdown",
   "metadata": {},
   "source": [
    "## 词向量 ##"
   ]
  },
  {
   "cell_type": "code",
   "execution_count": 13,
   "metadata": {},
   "outputs": [],
   "source": [
    "from sklearn.feature_extraction.text import CountVectorizer\n",
    "\n",
    "def get_custom_stopwords(stop_words_file):\n",
    "    with open(stop_words_file) as f:\n",
    "        stopwords = f.read()\n",
    "    stopwords_list = stopwords.split('\\n')\n",
    "    custom_stopwords_list = [i for i in stopwords_list]\n",
    "    return custom_stopwords_list\n",
    "\n",
    "stop_words_file = '哈工大停用词表.txt'\n",
    "stopwords = get_custom_stopwords(stop_words_file)\n",
    "\n",
    "vect = CountVectorizer(max_df = 0.8, \n",
    "                       min_df = 3, \n",
    "                       token_pattern=u'(?u)\\\\b[^\\\\d\\\\W]\\\\w+\\\\b', \n",
    "                       stop_words=frozenset(stopwords))"
   ]
  },
  {
   "cell_type": "code",
   "execution_count": 14,
   "metadata": {},
   "outputs": [
    {
     "name": "stderr",
     "output_type": "stream",
     "text": [
      "/home/linuzb/miniconda3/lib/python3.7/site-packages/sklearn/feature_extraction/text.py:300: UserWarning: Your stop_words may be inconsistent with your preprocessing. Tokenizing the stop words generated tokens ['exp', 'lex', '①①', '①②', '①③', '①④', '①⑤', '①⑥', '①⑦', '①⑧', '①⑨', '①ａ', '①ｂ', '①ｃ', '①ｄ', '①ｅ', '①ｆ', '①ｇ', '①ｈ', '①ｉ', '①ｏ', '②①', '②②', '②③', '②④', '②⑤', '②⑥', '②⑦', '②⑧', '②⑩', '②ａ', '②ｂ', '②ｄ', '②ｅ', '②ｆ', '②ｇ', '②ｈ', '②ｉ', '②ｊ', '③①', '③⑩', '③ａ', '③ｂ', '③ｃ', '③ｄ', '③ｅ', '③ｆ', '③ｇ', '③ｈ', '④ａ', '④ｂ', '④ｃ', '④ｄ', '④ｅ', '⑤ａ', '⑤ｂ', '⑤ｄ', '⑤ｅ', '⑤ｆ', 'ｌｉ', 'ｚｘｆｉｔｌ'] not in stop_words.\n",
      "  'stop_words.' % sorted(inconsistent))\n"
     ]
    },
    {
     "data": {
      "text/html": [
       "<div>\n",
       "<style scoped>\n",
       "    .dataframe tbody tr th:only-of-type {\n",
       "        vertical-align: middle;\n",
       "    }\n",
       "\n",
       "    .dataframe tbody tr th {\n",
       "        vertical-align: top;\n",
       "    }\n",
       "\n",
       "    .dataframe thead th {\n",
       "        text-align: right;\n",
       "    }\n",
       "</style>\n",
       "<table border=\"1\" class=\"dataframe\">\n",
       "  <thead>\n",
       "    <tr style=\"text-align: right;\">\n",
       "      <th></th>\n",
       "      <th>__</th>\n",
       "      <th>______</th>\n",
       "      <th>_________</th>\n",
       "      <th>____________</th>\n",
       "      <th>_____________________</th>\n",
       "      <th>______________________________</th>\n",
       "      <th>a1</th>\n",
       "      <th>a2</th>\n",
       "      <th>a3</th>\n",
       "      <th>a320</th>\n",
       "      <th>...</th>\n",
       "      <th>龙虾</th>\n",
       "      <th>龙袍</th>\n",
       "      <th>龙路</th>\n",
       "      <th>龙里县</th>\n",
       "      <th>龙镇</th>\n",
       "      <th>龙门</th>\n",
       "      <th>龙飞</th>\n",
       "      <th>龙首</th>\n",
       "      <th>龚先生</th>\n",
       "      <th>龚全珍</th>\n",
       "    </tr>\n",
       "  </thead>\n",
       "  <tbody>\n",
       "    <tr>\n",
       "      <th>0</th>\n",
       "      <td>0</td>\n",
       "      <td>0</td>\n",
       "      <td>0</td>\n",
       "      <td>0</td>\n",
       "      <td>0</td>\n",
       "      <td>0</td>\n",
       "      <td>0</td>\n",
       "      <td>0</td>\n",
       "      <td>0</td>\n",
       "      <td>0</td>\n",
       "      <td>...</td>\n",
       "      <td>0</td>\n",
       "      <td>0</td>\n",
       "      <td>0</td>\n",
       "      <td>0</td>\n",
       "      <td>0</td>\n",
       "      <td>0</td>\n",
       "      <td>0</td>\n",
       "      <td>0</td>\n",
       "      <td>0</td>\n",
       "      <td>0</td>\n",
       "    </tr>\n",
       "    <tr>\n",
       "      <th>1</th>\n",
       "      <td>0</td>\n",
       "      <td>0</td>\n",
       "      <td>0</td>\n",
       "      <td>0</td>\n",
       "      <td>0</td>\n",
       "      <td>0</td>\n",
       "      <td>0</td>\n",
       "      <td>0</td>\n",
       "      <td>0</td>\n",
       "      <td>0</td>\n",
       "      <td>...</td>\n",
       "      <td>0</td>\n",
       "      <td>0</td>\n",
       "      <td>0</td>\n",
       "      <td>0</td>\n",
       "      <td>0</td>\n",
       "      <td>0</td>\n",
       "      <td>0</td>\n",
       "      <td>0</td>\n",
       "      <td>0</td>\n",
       "      <td>0</td>\n",
       "    </tr>\n",
       "    <tr>\n",
       "      <th>2</th>\n",
       "      <td>0</td>\n",
       "      <td>0</td>\n",
       "      <td>0</td>\n",
       "      <td>0</td>\n",
       "      <td>0</td>\n",
       "      <td>0</td>\n",
       "      <td>0</td>\n",
       "      <td>0</td>\n",
       "      <td>0</td>\n",
       "      <td>0</td>\n",
       "      <td>...</td>\n",
       "      <td>0</td>\n",
       "      <td>0</td>\n",
       "      <td>0</td>\n",
       "      <td>0</td>\n",
       "      <td>0</td>\n",
       "      <td>0</td>\n",
       "      <td>0</td>\n",
       "      <td>0</td>\n",
       "      <td>0</td>\n",
       "      <td>0</td>\n",
       "    </tr>\n",
       "    <tr>\n",
       "      <th>3</th>\n",
       "      <td>0</td>\n",
       "      <td>0</td>\n",
       "      <td>0</td>\n",
       "      <td>0</td>\n",
       "      <td>0</td>\n",
       "      <td>0</td>\n",
       "      <td>0</td>\n",
       "      <td>0</td>\n",
       "      <td>0</td>\n",
       "      <td>0</td>\n",
       "      <td>...</td>\n",
       "      <td>0</td>\n",
       "      <td>0</td>\n",
       "      <td>0</td>\n",
       "      <td>0</td>\n",
       "      <td>0</td>\n",
       "      <td>0</td>\n",
       "      <td>0</td>\n",
       "      <td>0</td>\n",
       "      <td>0</td>\n",
       "      <td>0</td>\n",
       "    </tr>\n",
       "    <tr>\n",
       "      <th>4</th>\n",
       "      <td>0</td>\n",
       "      <td>0</td>\n",
       "      <td>0</td>\n",
       "      <td>0</td>\n",
       "      <td>0</td>\n",
       "      <td>0</td>\n",
       "      <td>0</td>\n",
       "      <td>0</td>\n",
       "      <td>0</td>\n",
       "      <td>0</td>\n",
       "      <td>...</td>\n",
       "      <td>0</td>\n",
       "      <td>0</td>\n",
       "      <td>0</td>\n",
       "      <td>0</td>\n",
       "      <td>0</td>\n",
       "      <td>0</td>\n",
       "      <td>0</td>\n",
       "      <td>0</td>\n",
       "      <td>0</td>\n",
       "      <td>0</td>\n",
       "    </tr>\n",
       "  </tbody>\n",
       "</table>\n",
       "<p>5 rows × 52384 columns</p>\n",
       "</div>"
      ],
      "text/plain": [
       "   __  ______  _________  ____________  _____________________  \\\n",
       "0   0       0          0             0                      0   \n",
       "1   0       0          0             0                      0   \n",
       "2   0       0          0             0                      0   \n",
       "3   0       0          0             0                      0   \n",
       "4   0       0          0             0                      0   \n",
       "\n",
       "   ______________________________  a1  a2  a3  a320  ...  龙虾  龙袍  龙路  龙里县  龙镇  \\\n",
       "0                               0   0   0   0     0  ...   0   0   0    0   0   \n",
       "1                               0   0   0   0     0  ...   0   0   0    0   0   \n",
       "2                               0   0   0   0     0  ...   0   0   0    0   0   \n",
       "3                               0   0   0   0     0  ...   0   0   0    0   0   \n",
       "4                               0   0   0   0     0  ...   0   0   0    0   0   \n",
       "\n",
       "   龙门  龙飞  龙首  龚先生  龚全珍  \n",
       "0   0   0   0    0    0  \n",
       "1   0   0   0    0    0  \n",
       "2   0   0   0    0    0  \n",
       "3   0   0   0    0    0  \n",
       "4   0   0   0    0    0  \n",
       "\n",
       "[5 rows x 52384 columns]"
      ]
     },
     "execution_count": 14,
     "metadata": {},
     "output_type": "execute_result"
    }
   ],
   "source": [
    "test = pd.DataFrame(vect.fit_transform(X_train).toarray(), columns=vect.get_feature_names())\n",
    "test.head()"
   ]
  },
  {
   "cell_type": "markdown",
   "metadata": {},
   "source": [
    "## 训练模型 ##"
   ]
  },
  {
   "cell_type": "code",
   "execution_count": 15,
   "metadata": {},
   "outputs": [],
   "source": [
    "X_train_vect = vect.fit_transform(X_train)\n",
    "X_test_vect = vect.transform(X_test)"
   ]
  },
  {
   "cell_type": "code",
   "execution_count": 84,
   "metadata": {},
   "outputs": [],
   "source": [
    "from sklearn.metrics import confusion_matrix\n",
    "import matplotlib\n",
    "import matplotlib.pyplot as plt\n",
    "%matplotlib inline  \n",
    "classes = [0, 1, 2]\n",
    "\n",
    "def plot_confusion_matrix(y_true, y_pred, classes,\n",
    "                          normalize=False,\n",
    "                          title=None,\n",
    "                          cmap=plt.cm.Blues):\n",
    "    \"\"\"\n",
    "    This function prints and plots the confusion matrix.\n",
    "    Normalization can be applied by setting `normalize=True`.\n",
    "    \"\"\"\n",
    "    if not title:\n",
    "        if normalize:\n",
    "            title = 'Normalized confusion matrix'\n",
    "        else:\n",
    "            title = 'Confusion matrix, without normalization'\n",
    "\n",
    "    # Compute confusion matrix\n",
    "    cm = confusion_matrix(y_true, y_pred)\n",
    "    # Only use the labels that appear in the data\n",
    "    # classes = classes[unique_labels(y_true, y_pred)]\n",
    "    if normalize:\n",
    "        cm = cm.astype('float') / cm.sum(axis=1)[:, np.newaxis]\n",
    "        print(\"Normalized confusion matrix\")\n",
    "    else:\n",
    "        print('Confusion matrix, without normalization')\n",
    "\n",
    "    print(cm)\n",
    "\n",
    "    fig, ax = plt.subplots()\n",
    "    im = ax.imshow(cm, interpolation='nearest', cmap=cmap)\n",
    "    ax.figure.colorbar(im, ax=ax)\n",
    "    # We want to show all ticks...\n",
    "    ax.set(xticks=np.arange(cm.shape[1]),\n",
    "           yticks=np.arange(cm.shape[0]),\n",
    "           # ... and label them with the respective list entries\n",
    "           xticklabels=classes, yticklabels=classes,\n",
    "           title=title,\n",
    "           ylabel='True label',\n",
    "           xlabel='Predicted label')\n",
    "\n",
    "    # Rotate the tick labels and set their alignment.\n",
    "    plt.setp(ax.get_xticklabels(), rotation=45, ha=\"right\",\n",
    "             rotation_mode=\"anchor\")\n",
    "\n",
    "    # Loop over data dimensions and create text annotations.\n",
    "    fmt = '.2f' if normalize else 'd'\n",
    "    thresh = cm.max() / 2.\n",
    "    for i in range(cm.shape[0]):\n",
    "        for j in range(cm.shape[1]):\n",
    "            ax.text(j, i, format(cm[i, j], fmt),\n",
    "                    ha=\"center\", va=\"center\",\n",
    "                    color=\"white\" if cm[i, j] > thresh else \"black\")\n",
    "    fig.tight_layout()\n",
    "    # plt.savefig(\"../figure/\"+title+'.pdf')\n",
    "    # plt.savefig(\"../figure/\"+title+'.svg')\n",
    "    return ax"
   ]
  },
  {
   "cell_type": "markdown",
   "metadata": {},
   "source": [
    "### 朴素贝叶斯"
   ]
  },
  {
   "cell_type": "code",
   "execution_count": 85,
   "metadata": {},
   "outputs": [
    {
     "name": "stdout",
     "output_type": "stream",
     "text": [
      "naive_bayes train score :0.7867090523766274\n"
     ]
    }
   ],
   "source": [
    "from sklearn.naive_bayes import MultinomialNB\n",
    "nb = MultinomialNB()\n",
    "nb.fit(X_train_vect, y_train)\n",
    "train_score = nb.score(X_train_vect, y_train)\n",
    "print(\"naive_bayes train score :\" + str(train_score))"
   ]
  },
  {
   "cell_type": "code",
   "execution_count": 86,
   "metadata": {},
   "outputs": [
    {
     "name": "stdout",
     "output_type": "stream",
     "text": [
      "naive_bayes test score0.6920980926430518\n",
      "Normalized confusion matrix\n",
      "[[0.56338028 0.25352113 0.18309859]\n",
      " [0.13850416 0.60387812 0.25761773]\n",
      " [0.0397351  0.13245033 0.82781457]]\n"
     ]
    },
    {
     "data": {
      "text/plain": [
       "<matplotlib.axes._subplots.AxesSubplot at 0x7f0d2e5dff10>"
      ]
     },
     "execution_count": 86,
     "metadata": {},
     "output_type": "execute_result"
    },
    {
     "data": {
      "image/png": "[encoded data removed]",
      "text/plain": [
       "<Figure size 432x288 with 2 Axes>"
      ]
     },
     "metadata": {
      "needs_background": "light"
     },
     "output_type": "display_data"
    }
   ],
   "source": [
    "print(\"naive_bayes test score\" + str(nb.score(X_test_vect, y_test)))\n",
    "y_pred  = nb.predict(X_test_vect)\n",
    "y_test = np.array(y_test)\n",
    "# print(y_test)\n",
    "plot_confusion_matrix(y_test, y_pred, classes=classes, normalize=True,\n",
    "                      title='NB confusion matrix')"
   ]
  },
  {
   "cell_type": "markdown",
   "metadata": {},
   "source": [
    "### 随机森林"
   ]
  },
  {
   "cell_type": "code",
   "execution_count": 88,
   "metadata": {},
   "outputs": [
    {
     "name": "stdout",
     "output_type": "stream",
     "text": [
      "random forest train:0.9412655161973963\n"
     ]
    }
   ],
   "source": [
    "from sklearn.ensemble import RandomForestClassifier\n",
    "rfc = RandomForestClassifier(n_estimators=50, max_depth=70,random_state=0)\n",
    "rfc.fit(X_train_vect, y_train)\n",
    "train_score = rfc.score(X_train_vect, y_train)\n",
    "print(\"random forest train:\" + str(train_score))"
   ]
  },
  {
   "cell_type": "code",
   "execution_count": 89,
   "metadata": {},
   "outputs": [
    {
     "name": "stdout",
     "output_type": "stream",
     "text": [
      "random forest test score :0.7166212534059946\n",
      "Normalized confusion matrix\n",
      "[[0.01408451 0.78873239 0.1971831 ]\n",
      " [0.00277008 0.86703601 0.13019391]\n",
      " [0.         0.29801325 0.70198675]]\n"
     ]
    },
    {
     "data": {
      "text/plain": [
       "<matplotlib.axes._subplots.AxesSubplot at 0x7f0d2e45d1d0>"
      ]
     },
     "execution_count": 89,
     "metadata": {},
     "output_type": "execute_result"
    },
    {
     "data": {
      "image/png": "[encoded data removed]",
      "text/plain": [
       "<Figure size 432x288 with 2 Axes>"
      ]
     },
     "metadata": {
      "needs_background": "light"
     },
     "output_type": "display_data"
    }
   ],
   "source": [
    "print(\"random forest test score :\" + str(rfc.score(X_test_vect, y_test)))\n",
    "y_pred  = rfc.predict(X_test_vect)\n",
    "y_test = np.array(y_test)\n",
    "# print(y_test)\n",
    "plot_confusion_matrix(y_test, y_pred, classes=classes, normalize=True,\n",
    "                      title='rfc confusion matrix')"
   ]
  },
  {
   "cell_type": "markdown",
   "metadata": {},
   "source": [
    "### SVM ###"
   ]
  },
  {
   "cell_type": "code",
   "execution_count": 90,
   "metadata": {},
   "outputs": [
    {
     "name": "stdout",
     "output_type": "stream",
     "text": [
      "svm train score :0.8820768997880715\n"
     ]
    }
   ],
   "source": [
    "from sklearn import svm\n",
    "svm_clf = svm.SVC(C=4, gamma='scale')\n",
    "svm_clf.fit(X_train_vect, y_train)\n",
    "train_score = svm_clf.score(X_train_vect, y_train)\n",
    "print(\"svm train score :\" + str(train_score))"
   ]
  },
  {
   "cell_type": "code",
   "execution_count": 91,
   "metadata": {},
   "outputs": [
    {
     "name": "stdout",
     "output_type": "stream",
     "text": [
      "svm test score :0.715258855585831\n",
      "Normalized confusion matrix\n",
      "[[0.1971831  0.66197183 0.14084507]\n",
      " [0.02216066 0.87811634 0.09972299]\n",
      " [0.00662252 0.35099338 0.64238411]]\n"
     ]
    },
    {
     "data": {
      "text/plain": [
       "<matplotlib.axes._subplots.AxesSubplot at 0x7f0d2e3f74d0>"
      ]
     },
     "execution_count": 91,
     "metadata": {},
     "output_type": "execute_result"
    },
    {
     "data": {
      "image/png": "[encoded data removed]",
      "text/plain": [
       "<Figure size 432x288 with 2 Axes>"
      ]
     },
     "metadata": {
      "needs_background": "light"
     },
     "output_type": "display_data"
    }
   ],
   "source": [
    "print(\"svm test score :\" + str(svm_clf.score(X_test_vect, y_test)))\n",
    "# print(X_test_vect)\n",
    "# print(y_test)\n",
    "y_pred  = svm_clf.predict(X_test_vect)\n",
    "y_test = np.array(y_test)\n",
    "# print(y_test)\n",
    "plot_confusion_matrix(y_test, y_pred, classes=classes, normalize=True,\n",
    "                      title='svm confusion matrix')"
   ]
  },
  {
   "cell_type": "markdown",
   "metadata": {},
   "source": [
    "## 保存预测结果 ##"
   ]
  },
  {
   "cell_type": "code",
   "execution_count": 18,
   "metadata": {},
   "outputs": [],
   "source": [
    "X_vec = vect.transform(X)\n",
    "nb_result = nb.predict(X_vec)\n",
    "table_merge['nb_result'] = nb_result"
   ]
  },
  {
   "cell_type": "code",
   "execution_count": 19,
   "metadata": {},
   "outputs": [
    {
     "data": {
      "text/html": [
       "<div>\n",
       "<style scoped>\n",
       "    .dataframe tbody tr th:only-of-type {\n",
       "        vertical-align: middle;\n",
       "    }\n",
       "\n",
       "    .dataframe tbody tr th {\n",
       "        vertical-align: top;\n",
       "    }\n",
       "\n",
       "    .dataframe thead th {\n",
       "        text-align: right;\n",
       "    }\n",
       "</style>\n",
       "<table border=\"1\" class=\"dataframe\">\n",
       "  <thead>\n",
       "    <tr style=\"text-align: right;\">\n",
       "      <th></th>\n",
       "      <th>id</th>\n",
       "      <th>title</th>\n",
       "      <th>content</th>\n",
       "      <th>label</th>\n",
       "      <th>cut_content</th>\n",
       "      <th>nb_result</th>\n",
       "    </tr>\n",
       "  </thead>\n",
       "  <tbody>\n",
       "    <tr>\n",
       "      <th>0</th>\n",
       "      <td>7a3dd79f90ee419da87190cff60f7a86</td>\n",
       "      <td>问责领导(上黄镇党委书记张涛，宣国才真能一手遮天吗？)</td>\n",
       "      <td>问责领导(上黄镇党委书记张涛，宣国才真能一手遮天吗？)这几天看了有人举报施某某的贴子，经与举...</td>\n",
       "      <td>2</td>\n",
       "      <td>问责 领导 ( 上 黄镇 党委书记 张涛 ， 宣国 才 真能 一手遮天 吗 ？ ) 这 几天...</td>\n",
       "      <td>2</td>\n",
       "    </tr>\n",
       "    <tr>\n",
       "      <th>1</th>\n",
       "      <td>7640a5589bc7486ca199eeeb38af79dd</td>\n",
       "      <td>江歌事件:教会孩子，善良的同时更要懂得保护自己!</td>\n",
       "      <td>江歌事件:教会孩子，善良的同时更要懂得保护自己!过去一年的江歌悲剧，这几日再次刷屏：住在东京...</td>\n",
       "      <td>1</td>\n",
       "      <td>江歌 事件 : 教会 孩子 ， 善良 的 同时 更要 懂得 保护 自己 ! 过去 一年 的 ...</td>\n",
       "      <td>2</td>\n",
       "    </tr>\n",
       "    <tr>\n",
       "      <th>2</th>\n",
       "      <td>8c5bda93e4ba401f90a0faa5b28fe57f</td>\n",
       "      <td>绝味鸭脖广告\"开黄腔\"引众怒 \"双11\"这么拼值吗?</td>\n",
       "      <td>绝味鸭脖广告\"开黄腔\"引众怒 \"双11\"这么拼值吗?“双11”1600亿的销售额让中国乃至全...</td>\n",
       "      <td>2</td>\n",
       "      <td>绝味 鸭 脖 广告 \" 开 黄腔 \" 引 众怒   \" 双 11 \" 这么 拼值 吗 ? “...</td>\n",
       "      <td>2</td>\n",
       "    </tr>\n",
       "    <tr>\n",
       "      <th>3</th>\n",
       "      <td>1aa777fed31a4b8a9d866f05b5477557</td>\n",
       "      <td>央视曝光!如东一医药企业将槽罐车改成垃圾车，夜间偷排高浓度废水</td>\n",
       "      <td>央视曝光!如东一医药企业将槽罐车改成垃圾车，夜间偷排高浓度废水2016年以来，如东高新区一家...</td>\n",
       "      <td>2</td>\n",
       "      <td>央视 曝光 ! 如东 一 医药企业 将 槽罐车 改成 垃圾车 ， 夜间 偷排 高浓度 废水 ...</td>\n",
       "      <td>2</td>\n",
       "    </tr>\n",
       "    <tr>\n",
       "      <th>4</th>\n",
       "      <td>6c67ac55360340258e157f3710ebae6c</td>\n",
       "      <td>恶劣至极，央视都曝光了!南通如东一医药企业将槽罐车改成洒水车，夜间偷排高浓度废水...丢大发了!</td>\n",
       "      <td>恶劣至极，央视都曝光了!南通如东一医药企业将槽罐车改成洒水车，夜间偷排高浓度废水...丢大发...</td>\n",
       "      <td>2</td>\n",
       "      <td>恶劣 至极 ， 央视 都 曝光 了 ! 南通 如东 一 医药企业 将 槽罐车 改成 洒水车 ...</td>\n",
       "      <td>2</td>\n",
       "    </tr>\n",
       "  </tbody>\n",
       "</table>\n",
       "</div>"
      ],
      "text/plain": [
       "                                 id  \\\n",
       "0  7a3dd79f90ee419da87190cff60f7a86   \n",
       "1  7640a5589bc7486ca199eeeb38af79dd   \n",
       "2  8c5bda93e4ba401f90a0faa5b28fe57f   \n",
       "3  1aa777fed31a4b8a9d866f05b5477557   \n",
       "4  6c67ac55360340258e157f3710ebae6c   \n",
       "\n",
       "                                              title  \\\n",
       "0                       问责领导(上黄镇党委书记张涛，宣国才真能一手遮天吗？)   \n",
       "1                          江歌事件:教会孩子，善良的同时更要懂得保护自己!   \n",
       "2                        绝味鸭脖广告\"开黄腔\"引众怒 \"双11\"这么拼值吗?   \n",
       "3                   央视曝光!如东一医药企业将槽罐车改成垃圾车，夜间偷排高浓度废水   \n",
       "4  恶劣至极，央视都曝光了!南通如东一医药企业将槽罐车改成洒水车，夜间偷排高浓度废水...丢大发了!   \n",
       "\n",
       "                                             content  label  \\\n",
       "0  问责领导(上黄镇党委书记张涛，宣国才真能一手遮天吗？)这几天看了有人举报施某某的贴子，经与举...      2   \n",
       "1  江歌事件:教会孩子，善良的同时更要懂得保护自己!过去一年的江歌悲剧，这几日再次刷屏：住在东京...      1   \n",
       "2  绝味鸭脖广告\"开黄腔\"引众怒 \"双11\"这么拼值吗?“双11”1600亿的销售额让中国乃至全...      2   \n",
       "3  央视曝光!如东一医药企业将槽罐车改成垃圾车，夜间偷排高浓度废水2016年以来，如东高新区一家...      2   \n",
       "4  恶劣至极，央视都曝光了!南通如东一医药企业将槽罐车改成洒水车，夜间偷排高浓度废水...丢大发...      2   \n",
       "\n",
       "                                         cut_content  nb_result  \n",
       "0  问责 领导 ( 上 黄镇 党委书记 张涛 ， 宣国 才 真能 一手遮天 吗 ？ ) 这 几天...          2  \n",
       "1  江歌 事件 : 教会 孩子 ， 善良 的 同时 更要 懂得 保护 自己 ! 过去 一年 的 ...          2  \n",
       "2  绝味 鸭 脖 广告 \" 开 黄腔 \" 引 众怒   \" 双 11 \" 这么 拼值 吗 ? “...          2  \n",
       "3  央视 曝光 ! 如东 一 医药企业 将 槽罐车 改成 垃圾车 ， 夜间 偷排 高浓度 废水 ...          2  \n",
       "4  恶劣 至极 ， 央视 都 曝光 了 ! 南通 如东 一 医药企业 将 槽罐车 改成 洒水车 ...          2  "
      ]
     },
     "execution_count": 19,
     "metadata": {},
     "output_type": "execute_result"
    }
   ],
   "source": [
    "table_merge.head()"
   ]
  },
  {
   "cell_type": "code",
   "execution_count": 20,
   "metadata": {},
   "outputs": [],
   "source": [
    "Test_DataSet = pd.read_csv('Test/Test_DataSet.csv', encoding='utf-8')"
   ]
  },
  {
   "cell_type": "code",
   "execution_count": 21,
   "metadata": {},
   "outputs": [
    {
     "data": {
      "text/html": [
       "<div>\n",
       "<style scoped>\n",
       "    .dataframe tbody tr th:only-of-type {\n",
       "        vertical-align: middle;\n",
       "    }\n",
       "\n",
       "    .dataframe tbody tr th {\n",
       "        vertical-align: top;\n",
       "    }\n",
       "\n",
       "    .dataframe thead th {\n",
       "        text-align: right;\n",
       "    }\n",
       "</style>\n",
       "<table border=\"1\" class=\"dataframe\">\n",
       "  <thead>\n",
       "    <tr style=\"text-align: right;\">\n",
       "      <th></th>\n",
       "      <th>id</th>\n",
       "      <th>title</th>\n",
       "      <th>content</th>\n",
       "    </tr>\n",
       "  </thead>\n",
       "  <tbody>\n",
       "    <tr>\n",
       "      <th>0</th>\n",
       "      <td>00005a3efe934a19adc0b69b05faeae7</td>\n",
       "      <td>九江办好人民满意教育</td>\n",
       "      <td>近3年来，九江市紧紧围绕“人本教育、公平教育、优质教育、幸福教育”的目标，努力办好人民满意教...</td>\n",
       "    </tr>\n",
       "    <tr>\n",
       "      <th>1</th>\n",
       "      <td>0009dc82c41341d794837271d4dbff5f</td>\n",
       "      <td>中央第三生态环境保护督察组转办我市第三十一批信访件办理情况</td>\n",
       "      <td>中央第三生态环境保护督察组转办我市的第三十一批信访件共计1件，截至12月11日，已全部办结，...</td>\n",
       "    </tr>\n",
       "    <tr>\n",
       "      <th>2</th>\n",
       "      <td>000f3763b6074588817c9ab90a22a814</td>\n",
       "      <td>大雨天车被淹，保险公司该不该赔？</td>\n",
       "      <td>核心提示：近日，连续的降雨天气造成中心城区部分路段积水严重，一些市民驾车出行涉水时造成车辆被...</td>\n",
       "    </tr>\n",
       "    <tr>\n",
       "      <th>3</th>\n",
       "      <td>00117934dbe240068c95b6d04b08eea7</td>\n",
       "      <td>英特尔新cpu微架构ocean cove曝光</td>\n",
       "      <td>intel在主流平台上确认，今年将推出基于14nm的whiskeylake，明年开始大规模出...</td>\n",
       "    </tr>\n",
       "    <tr>\n",
       "      <th>4</th>\n",
       "      <td>0014cef5ccfa43b3a6b20162a03763fa</td>\n",
       "      <td>公安部侦破一批重大网络赌博案件 德州约局平台成重灾区</td>\n",
       "      <td>2018年4月，公安部指挥河南、北京、广西等地公安机关联合行动，成功侦破北京联众公司棋牌事业...</td>\n",
       "    </tr>\n",
       "  </tbody>\n",
       "</table>\n",
       "</div>"
      ],
      "text/plain": [
       "                                 id                          title  \\\n",
       "0  00005a3efe934a19adc0b69b05faeae7                     九江办好人民满意教育   \n",
       "1  0009dc82c41341d794837271d4dbff5f  中央第三生态环境保护督察组转办我市第三十一批信访件办理情况   \n",
       "2  000f3763b6074588817c9ab90a22a814               大雨天车被淹，保险公司该不该赔？   \n",
       "3  00117934dbe240068c95b6d04b08eea7         英特尔新cpu微架构ocean cove曝光   \n",
       "4  0014cef5ccfa43b3a6b20162a03763fa     公安部侦破一批重大网络赌博案件 德州约局平台成重灾区   \n",
       "\n",
       "                                             content  \n",
       "0  近3年来，九江市紧紧围绕“人本教育、公平教育、优质教育、幸福教育”的目标，努力办好人民满意教...  \n",
       "1  中央第三生态环境保护督察组转办我市的第三十一批信访件共计1件，截至12月11日，已全部办结，...  \n",
       "2  核心提示：近日，连续的降雨天气造成中心城区部分路段积水严重，一些市民驾车出行涉水时造成车辆被...  \n",
       "3  intel在主流平台上确认，今年将推出基于14nm的whiskeylake，明年开始大规模出...  \n",
       "4  2018年4月，公安部指挥河南、北京、广西等地公安机关联合行动，成功侦破北京联众公司棋牌事业...  "
      ]
     },
     "execution_count": 21,
     "metadata": {},
     "output_type": "execute_result"
    }
   ],
   "source": [
    "Test_DataSet.head()"
   ]
  },
  {
   "cell_type": "code",
   "execution_count": 22,
   "metadata": {},
   "outputs": [],
   "source": [
    "# 数据类型转换\n",
    "Test_DataSet['content'] = Test_DataSet['content'].astype('str')\n",
    "# 分词\n",
    "Test_DataSet['cut_content'] = Test_DataSet.content.apply(chinese_word_cut)\n",
    "# 测试\n",
    "result_vect = vect.transform(Test_DataSet['cut_content'])\n",
    "nb_result = nb.predict(result_vect)\n",
    "Test_DataSet['label'] = nb_result"
   ]
  },
  {
   "cell_type": "code",
   "execution_count": 23,
   "metadata": {},
   "outputs": [
    {
     "name": "stdout",
     "output_type": "stream",
     "text": [
      "0       0\n",
      "1       1\n",
      "2       2\n",
      "3       1\n",
      "4       2\n",
      "       ..\n",
      "7351    1\n",
      "7352    1\n",
      "7353    1\n",
      "7354    1\n",
      "7355    1\n",
      "Name: label, Length: 7356, dtype: int64\n"
     ]
    }
   ],
   "source": [
    "Test_DataSet.head()\n",
    "print(Test_DataSet['label'])"
   ]
  },
  {
   "cell_type": "code",
   "execution_count": 35,
   "metadata": {},
   "outputs": [],
   "source": [
    "# submit_example = pd.read_csv('submit_example.csv', encoding='utf-8')\n",
    "# submit_example.head()"
   ]
  },
  {
   "cell_type": "code",
   "execution_count": 18,
   "metadata": {},
   "outputs": [],
   "source": [
    "Test_DataSet[['id','label']].to_csv('submit.csv', index=False)"
   ]
  },
  {
   "cell_type": "code",
   "execution_count": null,
   "metadata": {},
   "outputs": [],
   "source": []
  }
 ],
 "metadata": {
  "kernelspec": {
   "display_name": "Python 3",
   "language": "python",
   "name": "python3"
  },
  "language_info": {
   "codemirror_mode": {
    "name": "ipython",
    "version": 3
   },
   "file_extension": ".py",
   "mimetype": "text/x-python",
   "name": "python",
   "nbconvert_exporter": "python",
   "pygments_lexer": "ipython3",
   "version": "3.7.4"
  }
 },
 "nbformat": 4,
 "nbformat_minor": 2
}
