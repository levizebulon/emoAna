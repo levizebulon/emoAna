{
 "cells": [
  {
   "cell_type": "markdown",
   "metadata": {},
   "source": [
    "## 导入数据 ##"
   ]
  },
  {
   "cell_type": "code",
   "execution_count": 1,
   "metadata": {},
   "outputs": [],
   "source": [
    "import numpy as np\n",
    "import pandas as pd"
   ]
  },
  {
   "cell_type": "code",
   "execution_count": 2,
   "metadata": {},
   "outputs": [],
   "source": [
    "# data = pd.read_csv('Train/Train_DataSet.csv', encoding='utf-8')\n",
    "# label = pd.read_csv('Train/Train_DataSet_Label.csv')\n",
    "table_merge = pd.read_csv('table_merge.csv', encoding='utf-8')"
   ]
  },
  {
   "cell_type": "code",
   "execution_count": 3,
   "metadata": {},
   "outputs": [
    {
     "data": {
      "text/html": [
       "<div>\n",
       "<style scoped>\n",
       "    .dataframe tbody tr th:only-of-type {\n",
       "        vertical-align: middle;\n",
       "    }\n",
       "\n",
       "    .dataframe tbody tr th {\n",
       "        vertical-align: top;\n",
       "    }\n",
       "\n",
       "    .dataframe thead th {\n",
       "        text-align: right;\n",
       "    }\n",
       "</style>\n",
       "<table border=\"1\" class=\"dataframe\">\n",
       "  <thead>\n",
       "    <tr style=\"text-align: right;\">\n",
       "      <th></th>\n",
       "      <th>Unnamed: 0</th>\n",
       "      <th>id</th>\n",
       "      <th>title</th>\n",
       "      <th>content</th>\n",
       "      <th>label</th>\n",
       "    </tr>\n",
       "  </thead>\n",
       "  <tbody>\n",
       "    <tr>\n",
       "      <th>0</th>\n",
       "      <td>0</td>\n",
       "      <td>7a3dd79f90ee419da87190cff60f7a86</td>\n",
       "      <td>问责领导(上黄镇党委书记张涛，宣国才真能一手遮天吗？)</td>\n",
       "      <td>这几天看了有人举报施某某的贴子，经与举报人联系证实，是宣某当天中午请举报人和枪手喝酒后，晚上...</td>\n",
       "      <td>2</td>\n",
       "    </tr>\n",
       "    <tr>\n",
       "      <th>1</th>\n",
       "      <td>1</td>\n",
       "      <td>7640a5589bc7486ca199eeeb38af79dd</td>\n",
       "      <td>江歌事件:教会孩子，善良的同时更要懂得保护自己!</td>\n",
       "      <td>过去一年的江歌悲剧，这几日再次刷屏：住在东京都中野区的中国女留学生江歌，收留了被前男友陈世锋...</td>\n",
       "      <td>1</td>\n",
       "    </tr>\n",
       "    <tr>\n",
       "      <th>2</th>\n",
       "      <td>2</td>\n",
       "      <td>8c5bda93e4ba401f90a0faa5b28fe57f</td>\n",
       "      <td>绝味鸭脖广告\"开黄腔\"引众怒 \"双11\"这么拼值吗?</td>\n",
       "      <td>“双11”1600亿的销售额让中国乃至全世界感到震惊，为此，不仅有不惜欠债百万的“剁手党”，...</td>\n",
       "      <td>2</td>\n",
       "    </tr>\n",
       "    <tr>\n",
       "      <th>3</th>\n",
       "      <td>3</td>\n",
       "      <td>1aa777fed31a4b8a9d866f05b5477557</td>\n",
       "      <td>央视曝光!如东一医药企业将槽罐车改成垃圾车，夜间偷排高浓度废水</td>\n",
       "      <td>2016年以来，如东高新区一家叫做拜瑞生物医药的企业竟然将装废水的槽罐车伪装成洒水车，常年在...</td>\n",
       "      <td>2</td>\n",
       "    </tr>\n",
       "    <tr>\n",
       "      <th>4</th>\n",
       "      <td>4</td>\n",
       "      <td>6c67ac55360340258e157f3710ebae6c</td>\n",
       "      <td>恶劣至极，央视都曝光了!南通如东一医药企业将槽罐车改成洒水车，夜间偷排高浓度废水...丢大发了!</td>\n",
       "      <td>新闻资讯•民生热点•城市生活•南通人都在看浏览更多资讯请关注微信公众号:南通传媒网昨晚央视一...</td>\n",
       "      <td>2</td>\n",
       "    </tr>\n",
       "  </tbody>\n",
       "</table>\n",
       "</div>"
      ],
      "text/plain": [
       "   Unnamed: 0                                id  \\\n",
       "0           0  7a3dd79f90ee419da87190cff60f7a86   \n",
       "1           1  7640a5589bc7486ca199eeeb38af79dd   \n",
       "2           2  8c5bda93e4ba401f90a0faa5b28fe57f   \n",
       "3           3  1aa777fed31a4b8a9d866f05b5477557   \n",
       "4           4  6c67ac55360340258e157f3710ebae6c   \n",
       "\n",
       "                                              title  \\\n",
       "0                       问责领导(上黄镇党委书记张涛，宣国才真能一手遮天吗？)   \n",
       "1                          江歌事件:教会孩子，善良的同时更要懂得保护自己!   \n",
       "2                        绝味鸭脖广告\"开黄腔\"引众怒 \"双11\"这么拼值吗?   \n",
       "3                   央视曝光!如东一医药企业将槽罐车改成垃圾车，夜间偷排高浓度废水   \n",
       "4  恶劣至极，央视都曝光了!南通如东一医药企业将槽罐车改成洒水车，夜间偷排高浓度废水...丢大发了!   \n",
       "\n",
       "                                             content  label  \n",
       "0  这几天看了有人举报施某某的贴子，经与举报人联系证实，是宣某当天中午请举报人和枪手喝酒后，晚上...      2  \n",
       "1  过去一年的江歌悲剧，这几日再次刷屏：住在东京都中野区的中国女留学生江歌，收留了被前男友陈世锋...      1  \n",
       "2  “双11”1600亿的销售额让中国乃至全世界感到震惊，为此，不仅有不惜欠债百万的“剁手党”，...      2  \n",
       "3  2016年以来，如东高新区一家叫做拜瑞生物医药的企业竟然将装废水的槽罐车伪装成洒水车，常年在...      2  \n",
       "4  新闻资讯•民生热点•城市生活•南通人都在看浏览更多资讯请关注微信公众号:南通传媒网昨晚央视一...      2  "
      ]
     },
     "execution_count": 3,
     "metadata": {},
     "output_type": "execute_result"
    }
   ],
   "source": [
    "# print(data.head())\n",
    "# print(type(data['content']))\n",
    "# print(data.dtypes)\n",
    "# print(label.head())\n",
    "# print(label['label'])\n",
    "\n",
    "# print(label.label)\n",
    "table_merge.head()"
   ]
  },
  {
   "cell_type": "markdown",
   "metadata": {},
   "source": [
    "## 数据类型转换 ##"
   ]
  },
  {
   "cell_type": "code",
   "execution_count": 4,
   "metadata": {},
   "outputs": [],
   "source": [
    "# data['content'] = data[\"content\"].astype(\"str\")\n",
    "# label['label'] = label['label'].astype('int')\n",
    "table_merge['content'] = table_merge['content'].astype('str')\n",
    "table_merge['label'] = table_merge['label'].astype('int')\n",
    "\n",
    "# print(type(data_str))"
   ]
  },
  {
   "cell_type": "markdown",
   "metadata": {},
   "source": [
    "## 朴素贝叶斯 ##"
   ]
  },
  {
   "cell_type": "code",
   "execution_count": 6,
   "metadata": {},
   "outputs": [
    {
     "name": "stderr",
     "output_type": "stream",
     "text": [
      "Building prefix dict from the default dictionary ...\n",
      "Dumping model to file cache /tmp/jieba.cache\n",
      "Loading model cost 1.164 seconds.\n",
      "Prefix dict has been built succesfully.\n"
     ]
    }
   ],
   "source": [
    "import jieba\n",
    "\n",
    "def chinese_word_cut(mytext):\n",
    "    return \" \".join(jieba.cut(mytext))\n",
    "\n",
    "# x1 = '热烈庆祝中华人民共和国成立60周年'\n",
    "\n",
    "# cut_x1 = chinese_word_cut(data['content'])\n",
    "# print(cut_x1)\n",
    "# data['cut_comment'] = data.title.apply(chinese_word_cut)\n",
    "# data['cut_comment'] = data.content.apply(chinese_word_cut)\n",
    "# data['cut_comment'] = chinese_word_cut(data['title'])\n",
    "table_merge['cut_content'] = table_merge.content.apply(chinese_word_cut)"
   ]
  },
  {
   "cell_type": "code",
   "execution_count": 7,
   "metadata": {},
   "outputs": [
    {
     "name": "stdout",
     "output_type": "stream",
     "text": [
      "0       这 几天 看 了 有人 举报 施 某某 的 贴子 ， 经 与 举报人 联系 证实 ， 是 宣...\n",
      "1       过去 一年 的 江歌 悲剧 ， 这 几日 再次 刷屏 ： 住 在 东京都 中野 区 的 中国...\n",
      "2       “ 双 11 ” 1600 亿 的 销售额 让 中国 乃至 全世界 感到 震惊 ， 为此 ，...\n",
      "3       2016 年 以来 ， 如东 高新区 一家 叫做 拜瑞 生物医药 的 企业 竟然 将装 废水...\n",
      "4       新闻资讯 • 民生 热点 • 城市 生活 • 南通人 都 在 看 浏览 更 多 资讯 请 关...\n",
      "5       昨晚 央视 一套 晚间新闻 栏目 曝光 了 一则 新闻报道 的 对象 竟是 如东 一家 企业...\n",
      "6       随着 金融街 1 号 （ jinrongjieyihao ） 对 有 非法 集资 、 诈骗 ...\n",
      "7       摘要 来自 中国 电池 联盟 的 数据 显示 ， 今年以来 ， 国内 动力电池 产业链 投资...\n",
      "8         一分钱 都 没取 到   近日 ， 江苏 扬州 ， 谢某 为 盗取 钱款 手持 水泥块 ...\n",
      "9         北京 的 这个 冬天 来得 比 往年 更 早 一些 ， 大风 寒潮 一次次 刷新 着 温...\n",
      "10        原 标题 : 手机号 、 、 ... 开头 的 注意 ! 看 完 吓 得 冷汗 都 出来...\n",
      "11        原 标题 : 网红 “ 土坯房 书记 ” 落马 的 背后   深耕 卢氏 官场 年 的 ...\n",
      "12        三鼎 甲 ， 曾经 在 哈尔滨 烤肉 界 地位 显赫 两年 前去 的 时候 印象 也 很...\n",
      "13        原 标题 : 土俄 军火交易 再起 波折 ， 鱼熊 无法 兼顾 ， 土 或 成美 俄 交...\n",
      "14        我 在 一个 叫 “ 闲鱼 ” 的 网上交易 平台 购买 了 一个 代付款 服务 ， 就...\n",
      "15        不 签字 ， 不 同意 ， 不 反抗 ， 让 某些 人扮   普天同庆 的 样子 好 了...\n",
      "16        这伙 是 他 自已 说 的 教育 废品 ， 文 不能 作文 。 一篇 文章 写 着 写 ...\n",
      "17        一度 引发 关注 的 河北 馆陶 辅警 执法 中 拍摄 不 雅 视频 ， 致 当事 女子...\n",
      "18        环球网 综合 报道 记者 赵衍龙 美国 总统 特朗普 周三 ( 日 ) 宣布 承认 耶路...\n",
      "19        ...............................................\n",
      "20        导读 : 颠末 这 三个 星期 的 距离 期 之后 ， 相信 许多 人 从 之前 的 感...\n",
      "21        到底 啥 成 了 机密 ? 专家 沉默 博思网   摘要 : 距 “ 九江 大桥 坍塌 ...\n",
      "22        还 被 要求 陪 睡   女子 想要 裸贷 ， 发了 裸照 后 不但 没收 到 钱 ， ...\n",
      "23        儿子 在 一旁 完全 被忽视 令 众人 气愤   导读 : 原 标题 : 马蓉 现身 打...\n",
      "24        忻州 : 男子 烧 垃圾 被 罚 元 ， 理由 却是 如此 奇葩   点赞 为 你 推荐...\n",
      "25        店主 被 罚款 元 行政拘留 天   陕西 新闻联播 西安 一 饭店 违规 燃放烟花 爆...\n",
      "26        当地 时间 号 下午 ， 位于 耶路撒冷 市内 的 中央 汽车站 发生 持刀 袭击 事件...\n",
      "27        原 标题 : 紧急通知 : 正在 看微信 的 你 不要 轻易 透露 这串 数字 ! 马上...\n",
      "28        家属 将 追 老赖 刑责 - 云 ...   备受 关注 的 “ 教科书 式 耍赖 ” ...\n",
      "29        今天 ， 娱乐圈 又 上演 了 一出 好戏 ， 知名演员 袁立 微博晒 九宫格 控诉 演...\n",
      "                              ...                        \n",
      "7310    为 进一步 做好 辖区 火灾 防控 工作 ， 增强 社会公众 消防安全 意识 和 消防 法治...\n",
      "7311    原 标题 ： 华北 中南部 黄淮 汾渭 等 地 有 霾   南方 地区 持续 阴雨 \\ n ...\n",
      "7312    原 标题 ： 火劫 重生 ， 前 女足 球员 流泪 说出 了 真相 … … \\ n 下面 这...\n",
      "7313    多彩 贵州 网讯 ( 谢静   本网 记者   杨艳 ) 为 进一步提高 师生 的 消防安全...\n",
      "7314    点击 关注 ' 掌上 渭南 ” 彩 呈现 给 你 ！ 2 月 27 日   阴 1 能 不能...\n",
      "7315    在 中国 江西省 的 老爷庙 水域 ， 仅 从 1960 年代 初到 1980 年代 末 的...\n",
      "7316    《 电力设施 保护 条例 》 第十五条 也 规定 : 任何 单位 和 个人 在 架空 电力 ...\n",
      "7317         台风 少年 团 ： 原本 以为 希望 来 了 ， 村民 一句 话 ， 孩子 们 失望 了\n",
      "7318    原 标题 : “ 谁 让 你 生不出 儿子 ? ” 豪门 弃妇 最爽 逆袭 : 老娘 身价 ...\n",
      "7319    列位 ， 欢迎 来到 照理说 事 。 2020 年 的 东京 奥运会 就要 来 了 ， 几年...\n",
      "7320                                                  nan\n",
      "7321    鹧鸪 哨 和 红 姑娘 跌落 悬崖 ， 鹧鸪 哨 在 下落 时 抓住 一块 岩石 ， 鹧鸪 ...\n",
      "7322    长飞镇 有 个 吴 财主 ， 宅子 连 成片 ， 儿子 坐 一桌 。 单说 他 20 岁 那...\n",
      "7323    频道 首页 　 　 水利 要闻 　 　 水利建设 　 　 水利 管理 　 　 水利 改革 　...\n",
      "7324    老 司机 都 知道 ， 驾驶 大 货车 下长坡 、 陡坡 非常 危险 ， 一是 坡道 难 行...\n",
      "7325    →   点选 “ 设为 星标   ⭐   ” 首席 君 每天 都 会 第一 时间 出现 在 ...\n",
      "7326    狗 。 任劳任怨 应该 是 主动 的 ， 而 不是 被动 的 。 看到 报道 的 地震 搜救...\n",
      "7327    吉祥 虎 老虎机 最新 平台 派克 那 可是 一条条 生命 啊 ! 那 不是 气球 。 在 ...\n",
      "7328    新快报 讯 记者 沈逸云 报道 上学 日 遇到 暴雨 ， 学生 要 不要 上课 ? 广州 不...\n",
      "7329    缅甸 赌场 2018 步步 惊心 第 5 章 厌烦 到 ， 只想 离婚 孩儿 拿 回 成绩单...\n",
      "7330    【 湖北 黄冈 ： 面包车 逆行 与 卡车 相撞 致一人 被困   消防员 成功 救援 】 ...\n",
      "7331    行程 简介 第一阶段 ： 第 1 天 ：   →   桥 →   第 2 天 ：   →  ...\n",
      "7332    大良 、 龙江 、 陈村 4 所 学校 9 月 开学 ! 顺德 未来 两年 力 .. \\ n...\n",
      "7333    原 标题 ： 最 容易 受到 甲醛 侵害 的 五类 人 ， 有 你 吗 ？ \\ n 随着 近...\n",
      "7334    2019 年 1 月份 全市 生产 安全事故 基本 情况 \\ n2019 年 1 月份 全市...\n",
      "7335    凯文 登上 前往 澳大利亚 的 飞机 ， 飞机 缓缓 起飞 ， 凯文 打开 手里 的 笔记本...\n",
      "7336    江海 明珠 网讯 （ 记者   修雨竹   汤思敏 ） 前两天 ， 港闸区 秦灶 林荫 水岸...\n",
      "7337    1 、 诈骗罪 量刑 标准 之 加重 处罚 情形 : \\ n 诈骗 数额 在 10 万元 以...\n",
      "7338    26 日 ， 日照 经济 技术开发区 发布 《 关于 奎山 汽贸 城 “ 11 • 14 ”...\n",
      "7339    消防通道 是 生命 通道 ， 一旦 被 占用 ， 当 发生 火灾 等 突发状况 ， 消防 车...\n",
      "Name: cut_content, Length: 7340, dtype: object\n"
     ]
    }
   ],
   "source": [
    "# print(data['cut_comment'])\n",
    "print(table_merge['cut_content'])"
   ]
  },
  {
   "cell_type": "code",
   "execution_count": 8,
   "metadata": {},
   "outputs": [
    {
     "name": "stdout",
     "output_type": "stream",
     "text": [
      "0       2\n",
      "1       1\n",
      "2       2\n",
      "3       2\n",
      "4       2\n",
      "5       2\n",
      "6       2\n",
      "7       1\n",
      "8       2\n",
      "9       2\n",
      "10      2\n",
      "11      2\n",
      "12      2\n",
      "13      2\n",
      "14      2\n",
      "15      2\n",
      "16      2\n",
      "17      2\n",
      "18      2\n",
      "19      2\n",
      "20      2\n",
      "21      2\n",
      "22      2\n",
      "23      1\n",
      "24      2\n",
      "25      2\n",
      "26      2\n",
      "27      1\n",
      "28      2\n",
      "29      1\n",
      "       ..\n",
      "7310    1\n",
      "7311    1\n",
      "7312    1\n",
      "7313    1\n",
      "7314    1\n",
      "7315    1\n",
      "7316    1\n",
      "7317    1\n",
      "7318    1\n",
      "7319    1\n",
      "7320    1\n",
      "7321    1\n",
      "7322    1\n",
      "7323    1\n",
      "7324    1\n",
      "7325    1\n",
      "7326    1\n",
      "7327    1\n",
      "7328    1\n",
      "7329    1\n",
      "7330    1\n",
      "7331    1\n",
      "7332    1\n",
      "7333    1\n",
      "7334    2\n",
      "7335    2\n",
      "7336    2\n",
      "7337    2\n",
      "7338    2\n",
      "7339    2\n",
      "Name: label, Length: 7340, dtype: int64\n"
     ]
    }
   ],
   "source": [
    "# print(table_merge['label'])\n",
    "# table_merge['label'] = table_merge['label'] - 1\n",
    "# print(table_merge['label'])\n",
    "# print(table_merge.head())\n",
    "print(table_merge['label'])"
   ]
  },
  {
   "cell_type": "markdown",
   "metadata": {},
   "source": [
    "## 划分数据集 ##"
   ]
  },
  {
   "cell_type": "code",
   "execution_count": 9,
   "metadata": {},
   "outputs": [
    {
     "name": "stdout",
     "output_type": "stream",
     "text": [
      "(7340,)\n",
      "(7340,)\n"
     ]
    }
   ],
   "source": [
    "X = table_merge['cut_content']\n",
    "y = table_merge['label']\n",
    "\n",
    "print(X.shape)\n",
    "print(y.shape)"
   ]
  },
  {
   "cell_type": "code",
   "execution_count": 11,
   "metadata": {},
   "outputs": [],
   "source": [
    "# from sklearn.model_selection import train_test_split\n",
    "\n",
    "# X_train, X_test, y_train, y_test = train_test_split(X, y, test_size=0.1, random_state=22)\n",
    "# print(y_train)\n",
    "X_train = X\n",
    "y_train = y"
   ]
  },
  {
   "cell_type": "markdown",
   "metadata": {},
   "source": [
    "## 词向量 ##"
   ]
  },
  {
   "cell_type": "code",
   "execution_count": 12,
   "metadata": {},
   "outputs": [],
   "source": [
    "from sklearn.feature_extraction.text import CountVectorizer\n",
    "\n",
    "def get_custom_stopwords(stop_words_file):\n",
    "    with open(stop_words_file) as f:\n",
    "        stopwords = f.read()\n",
    "    stopwords_list = stopwords.split('\\n')\n",
    "    custom_stopwords_list = [i for i in stopwords_list]\n",
    "    return custom_stopwords_list\n",
    "\n",
    "stop_words_file = '哈工大停用词表.txt'\n",
    "stopwords = get_custom_stopwords(stop_words_file)\n",
    "\n",
    "vect = CountVectorizer(max_df = 0.8, \n",
    "                       min_df = 3, \n",
    "                       token_pattern=u'(?u)\\\\b[^\\\\d\\\\W]\\\\w+\\\\b', \n",
    "                       stop_words=frozenset(stopwords))"
   ]
  },
  {
   "cell_type": "code",
   "execution_count": 13,
   "metadata": {},
   "outputs": [
    {
     "ename": "MemoryError",
     "evalue": "",
     "output_type": "error",
     "traceback": [
      "\u001b[0;31m---------------------------------------------------------------------------\u001b[0m",
      "\u001b[0;31mMemoryError\u001b[0m                               Traceback (most recent call last)",
      "\u001b[0;32m<ipython-input-13-15b49a655aee>\u001b[0m in \u001b[0;36m<module>\u001b[0;34m()\u001b[0m\n\u001b[0;32m----> 1\u001b[0;31m \u001b[0mtest\u001b[0m \u001b[0;34m=\u001b[0m \u001b[0mpd\u001b[0m\u001b[0;34m.\u001b[0m\u001b[0mDataFrame\u001b[0m\u001b[0;34m(\u001b[0m\u001b[0mvect\u001b[0m\u001b[0;34m.\u001b[0m\u001b[0mfit_transform\u001b[0m\u001b[0;34m(\u001b[0m\u001b[0mX_train\u001b[0m\u001b[0;34m)\u001b[0m\u001b[0;34m.\u001b[0m\u001b[0mtoarray\u001b[0m\u001b[0;34m(\u001b[0m\u001b[0;34m)\u001b[0m\u001b[0;34m,\u001b[0m \u001b[0mcolumns\u001b[0m\u001b[0;34m=\u001b[0m\u001b[0mvect\u001b[0m\u001b[0;34m.\u001b[0m\u001b[0mget_feature_names\u001b[0m\u001b[0;34m(\u001b[0m\u001b[0;34m)\u001b[0m\u001b[0;34m)\u001b[0m\u001b[0;34m\u001b[0m\u001b[0m\n\u001b[0m\u001b[1;32m      2\u001b[0m \u001b[0mtest\u001b[0m\u001b[0;34m.\u001b[0m\u001b[0mhead\u001b[0m\u001b[0;34m(\u001b[0m\u001b[0;34m)\u001b[0m\u001b[0;34m\u001b[0m\u001b[0m\n",
      "\u001b[0;32m~/anaconda3/lib/python3.7/site-packages/scipy/sparse/compressed.py\u001b[0m in \u001b[0;36mtoarray\u001b[0;34m(self, order, out)\u001b[0m\n\u001b[1;32m    945\u001b[0m         \u001b[0;32mif\u001b[0m \u001b[0mout\u001b[0m \u001b[0;32mis\u001b[0m \u001b[0;32mNone\u001b[0m \u001b[0;32mand\u001b[0m \u001b[0morder\u001b[0m \u001b[0;32mis\u001b[0m \u001b[0;32mNone\u001b[0m\u001b[0;34m:\u001b[0m\u001b[0;34m\u001b[0m\u001b[0m\n\u001b[1;32m    946\u001b[0m             \u001b[0morder\u001b[0m \u001b[0;34m=\u001b[0m \u001b[0mself\u001b[0m\u001b[0;34m.\u001b[0m\u001b[0m_swap\u001b[0m\u001b[0;34m(\u001b[0m\u001b[0;34m'cf'\u001b[0m\u001b[0;34m)\u001b[0m\u001b[0;34m[\u001b[0m\u001b[0;36m0\u001b[0m\u001b[0;34m]\u001b[0m\u001b[0;34m\u001b[0m\u001b[0m\n\u001b[0;32m--> 947\u001b[0;31m         \u001b[0mout\u001b[0m \u001b[0;34m=\u001b[0m \u001b[0mself\u001b[0m\u001b[0;34m.\u001b[0m\u001b[0m_process_toarray_args\u001b[0m\u001b[0;34m(\u001b[0m\u001b[0morder\u001b[0m\u001b[0;34m,\u001b[0m \u001b[0mout\u001b[0m\u001b[0;34m)\u001b[0m\u001b[0;34m\u001b[0m\u001b[0m\n\u001b[0m\u001b[1;32m    948\u001b[0m         \u001b[0;32mif\u001b[0m \u001b[0;32mnot\u001b[0m \u001b[0;34m(\u001b[0m\u001b[0mout\u001b[0m\u001b[0;34m.\u001b[0m\u001b[0mflags\u001b[0m\u001b[0;34m.\u001b[0m\u001b[0mc_contiguous\u001b[0m \u001b[0;32mor\u001b[0m \u001b[0mout\u001b[0m\u001b[0;34m.\u001b[0m\u001b[0mflags\u001b[0m\u001b[0;34m.\u001b[0m\u001b[0mf_contiguous\u001b[0m\u001b[0;34m)\u001b[0m\u001b[0;34m:\u001b[0m\u001b[0;34m\u001b[0m\u001b[0m\n\u001b[1;32m    949\u001b[0m             \u001b[0;32mraise\u001b[0m \u001b[0mValueError\u001b[0m\u001b[0;34m(\u001b[0m\u001b[0;34m'Output array must be C or F contiguous'\u001b[0m\u001b[0;34m)\u001b[0m\u001b[0;34m\u001b[0m\u001b[0m\n",
      "\u001b[0;32m~/anaconda3/lib/python3.7/site-packages/scipy/sparse/base.py\u001b[0m in \u001b[0;36m_process_toarray_args\u001b[0;34m(self, order, out)\u001b[0m\n\u001b[1;32m   1182\u001b[0m             \u001b[0;32mreturn\u001b[0m \u001b[0mout\u001b[0m\u001b[0;34m\u001b[0m\u001b[0m\n\u001b[1;32m   1183\u001b[0m         \u001b[0;32melse\u001b[0m\u001b[0;34m:\u001b[0m\u001b[0;34m\u001b[0m\u001b[0m\n\u001b[0;32m-> 1184\u001b[0;31m             \u001b[0;32mreturn\u001b[0m \u001b[0mnp\u001b[0m\u001b[0;34m.\u001b[0m\u001b[0mzeros\u001b[0m\u001b[0;34m(\u001b[0m\u001b[0mself\u001b[0m\u001b[0;34m.\u001b[0m\u001b[0mshape\u001b[0m\u001b[0;34m,\u001b[0m \u001b[0mdtype\u001b[0m\u001b[0;34m=\u001b[0m\u001b[0mself\u001b[0m\u001b[0;34m.\u001b[0m\u001b[0mdtype\u001b[0m\u001b[0;34m,\u001b[0m \u001b[0morder\u001b[0m\u001b[0;34m=\u001b[0m\u001b[0morder\u001b[0m\u001b[0;34m)\u001b[0m\u001b[0;34m\u001b[0m\u001b[0m\n\u001b[0m\u001b[1;32m   1185\u001b[0m \u001b[0;34m\u001b[0m\u001b[0m\n\u001b[1;32m   1186\u001b[0m \u001b[0;34m\u001b[0m\u001b[0m\n",
      "\u001b[0;31mMemoryError\u001b[0m: "
     ]
    }
   ],
   "source": [
    "test = pd.DataFrame(vect.fit_transform(X_train).toarray(), columns=vect.get_feature_names())\n",
    "test.head()"
   ]
  },
  {
   "cell_type": "markdown",
   "metadata": {},
   "source": [
    "## 训练模型 ##"
   ]
  },
  {
   "cell_type": "code",
   "execution_count": 14,
   "metadata": {},
   "outputs": [
    {
     "name": "stdout",
     "output_type": "stream",
     "text": [
      "0.7854223433242506\n",
      "0       2\n",
      "1       1\n",
      "2       2\n",
      "3       2\n",
      "4       2\n",
      "5       2\n",
      "6       2\n",
      "7       1\n",
      "8       2\n",
      "9       2\n",
      "10      2\n",
      "11      2\n",
      "12      2\n",
      "13      2\n",
      "14      2\n",
      "15      2\n",
      "16      2\n",
      "17      2\n",
      "18      2\n",
      "19      2\n",
      "20      2\n",
      "21      2\n",
      "22      2\n",
      "23      1\n",
      "24      2\n",
      "25      2\n",
      "26      2\n",
      "27      1\n",
      "28      2\n",
      "29      1\n",
      "       ..\n",
      "7310    1\n",
      "7311    1\n",
      "7312    1\n",
      "7313    1\n",
      "7314    1\n",
      "7315    1\n",
      "7316    1\n",
      "7317    1\n",
      "7318    1\n",
      "7319    1\n",
      "7320    1\n",
      "7321    1\n",
      "7322    1\n",
      "7323    1\n",
      "7324    1\n",
      "7325    1\n",
      "7326    1\n",
      "7327    1\n",
      "7328    1\n",
      "7329    1\n",
      "7330    1\n",
      "7331    1\n",
      "7332    1\n",
      "7333    1\n",
      "7334    2\n",
      "7335    2\n",
      "7336    2\n",
      "7337    2\n",
      "7338    2\n",
      "7339    2\n",
      "Name: label, Length: 7340, dtype: int64\n"
     ]
    }
   ],
   "source": [
    "from sklearn.naive_bayes import MultinomialNB\n",
    "nb = MultinomialNB()\n",
    "\n",
    "X_train_vect = vect.fit_transform(X_train)\n",
    "nb.fit(X_train_vect, y_train)\n",
    "train_score = nb.score(X_train_vect, y_train)\n",
    "print(train_score)\n",
    "print(y_train)"
   ]
  },
  {
   "cell_type": "markdown",
   "metadata": {},
   "source": [
    "## 测试模型 ##"
   ]
  },
  {
   "cell_type": "code",
   "execution_count": 44,
   "metadata": {},
   "outputs": [
    {
     "name": "stdout",
     "output_type": "stream",
     "text": [
      "0.6920980926430518\n",
      "  (0, 1036)\t3\n",
      "  (0, 1626)\t1\n",
      "  (0, 1633)\t2\n",
      "  (0, 1634)\t1\n",
      "  (0, 2839)\t2\n",
      "  (0, 3531)\t1\n",
      "  (0, 3859)\t1\n",
      "  (0, 4515)\t1\n",
      "  (0, 4517)\t3\n",
      "  (0, 5714)\t1\n",
      "  (0, 7793)\t1\n",
      "  (0, 8082)\t1\n",
      "  (0, 8265)\t1\n",
      "  (0, 8682)\t1\n",
      "  (0, 8863)\t1\n",
      "  (0, 8985)\t2\n",
      "  (0, 9779)\t1\n",
      "  (0, 9878)\t1\n",
      "  (0, 9975)\t1\n",
      "  (0, 10782)\t5\n",
      "  (0, 10786)\t2\n",
      "  (0, 10794)\t1\n",
      "  (0, 10855)\t1\n",
      "  (0, 12268)\t1\n",
      "  (0, 12409)\t1\n",
      "  :\t:\n",
      "  (733, 41794)\t1\n",
      "  (733, 41909)\t2\n",
      "  (733, 42323)\t1\n",
      "  (733, 42331)\t1\n",
      "  (733, 42989)\t1\n",
      "  (733, 43366)\t1\n",
      "  (733, 44121)\t1\n",
      "  (733, 44769)\t2\n",
      "  (733, 44982)\t1\n",
      "  (733, 45192)\t3\n",
      "  (733, 45202)\t1\n",
      "  (733, 45507)\t1\n",
      "  (733, 45511)\t4\n",
      "  (733, 45540)\t1\n",
      "  (733, 45735)\t1\n",
      "  (733, 46343)\t1\n",
      "  (733, 47150)\t1\n",
      "  (733, 47421)\t1\n",
      "  (733, 47463)\t1\n",
      "  (733, 47810)\t1\n",
      "  (733, 48325)\t2\n",
      "  (733, 48779)\t1\n",
      "  (733, 49506)\t2\n",
      "  (733, 51457)\t1\n",
      "  (733, 52216)\t1\n"
     ]
    }
   ],
   "source": [
    "X_test_vect = vect.transform(X_test)\n",
    "print(nb.score(X_test_vect, y_test))\n",
    "print(X_test_vect)\n",
    "# print(y_test)"
   ]
  },
  {
   "cell_type": "code",
   "execution_count": 45,
   "metadata": {},
   "outputs": [],
   "source": [
    "X_vec = vect.transform(X)\n",
    "nb_result = nb.predict(X_vec)\n",
    "table_merge['nb_result'] = nb_result"
   ]
  },
  {
   "cell_type": "code",
   "execution_count": 46,
   "metadata": {},
   "outputs": [
    {
     "data": {
      "text/html": [
       "<div>\n",
       "<style scoped>\n",
       "    .dataframe tbody tr th:only-of-type {\n",
       "        vertical-align: middle;\n",
       "    }\n",
       "\n",
       "    .dataframe tbody tr th {\n",
       "        vertical-align: top;\n",
       "    }\n",
       "\n",
       "    .dataframe thead th {\n",
       "        text-align: right;\n",
       "    }\n",
       "</style>\n",
       "<table border=\"1\" class=\"dataframe\">\n",
       "  <thead>\n",
       "    <tr style=\"text-align: right;\">\n",
       "      <th></th>\n",
       "      <th>Unnamed: 0</th>\n",
       "      <th>id</th>\n",
       "      <th>title</th>\n",
       "      <th>content</th>\n",
       "      <th>label</th>\n",
       "      <th>cut_content</th>\n",
       "      <th>nb_result</th>\n",
       "    </tr>\n",
       "  </thead>\n",
       "  <tbody>\n",
       "    <tr>\n",
       "      <th>0</th>\n",
       "      <td>0</td>\n",
       "      <td>7a3dd79f90ee419da87190cff60f7a86</td>\n",
       "      <td>问责领导(上黄镇党委书记张涛，宣国才真能一手遮天吗？)</td>\n",
       "      <td>这几天看了有人举报施某某的贴子，经与举报人联系证实，是宣某当天中午请举报人和枪手喝酒后，晚上...</td>\n",
       "      <td>2</td>\n",
       "      <td>这 几天 看 了 有人 举报 施 某某 的 贴子 ， 经 与 举报人 联系 证实 ， 是 宣...</td>\n",
       "      <td>2</td>\n",
       "    </tr>\n",
       "    <tr>\n",
       "      <th>1</th>\n",
       "      <td>1</td>\n",
       "      <td>7640a5589bc7486ca199eeeb38af79dd</td>\n",
       "      <td>江歌事件:教会孩子，善良的同时更要懂得保护自己!</td>\n",
       "      <td>过去一年的江歌悲剧，这几日再次刷屏：住在东京都中野区的中国女留学生江歌，收留了被前男友陈世锋...</td>\n",
       "      <td>1</td>\n",
       "      <td>过去 一年 的 江歌 悲剧 ， 这 几日 再次 刷屏 ： 住 在 东京都 中野 区 的 中国...</td>\n",
       "      <td>2</td>\n",
       "    </tr>\n",
       "    <tr>\n",
       "      <th>2</th>\n",
       "      <td>2</td>\n",
       "      <td>8c5bda93e4ba401f90a0faa5b28fe57f</td>\n",
       "      <td>绝味鸭脖广告\"开黄腔\"引众怒 \"双11\"这么拼值吗?</td>\n",
       "      <td>“双11”1600亿的销售额让中国乃至全世界感到震惊，为此，不仅有不惜欠债百万的“剁手党”，...</td>\n",
       "      <td>2</td>\n",
       "      <td>“ 双 11 ” 1600 亿 的 销售额 让 中国 乃至 全世界 感到 震惊 ， 为此 ，...</td>\n",
       "      <td>2</td>\n",
       "    </tr>\n",
       "    <tr>\n",
       "      <th>3</th>\n",
       "      <td>3</td>\n",
       "      <td>1aa777fed31a4b8a9d866f05b5477557</td>\n",
       "      <td>央视曝光!如东一医药企业将槽罐车改成垃圾车，夜间偷排高浓度废水</td>\n",
       "      <td>2016年以来，如东高新区一家叫做拜瑞生物医药的企业竟然将装废水的槽罐车伪装成洒水车，常年在...</td>\n",
       "      <td>2</td>\n",
       "      <td>2016 年 以来 ， 如东 高新区 一家 叫做 拜瑞 生物医药 的 企业 竟然 将装 废水...</td>\n",
       "      <td>2</td>\n",
       "    </tr>\n",
       "    <tr>\n",
       "      <th>4</th>\n",
       "      <td>4</td>\n",
       "      <td>6c67ac55360340258e157f3710ebae6c</td>\n",
       "      <td>恶劣至极，央视都曝光了!南通如东一医药企业将槽罐车改成洒水车，夜间偷排高浓度废水...丢大发了!</td>\n",
       "      <td>新闻资讯•民生热点•城市生活•南通人都在看浏览更多资讯请关注微信公众号:南通传媒网昨晚央视一...</td>\n",
       "      <td>2</td>\n",
       "      <td>新闻资讯 • 民生 热点 • 城市 生活 • 南通人 都 在 看 浏览 更 多 资讯 请 关...</td>\n",
       "      <td>2</td>\n",
       "    </tr>\n",
       "  </tbody>\n",
       "</table>\n",
       "</div>"
      ],
      "text/plain": [
       "   Unnamed: 0                                id  \\\n",
       "0           0  7a3dd79f90ee419da87190cff60f7a86   \n",
       "1           1  7640a5589bc7486ca199eeeb38af79dd   \n",
       "2           2  8c5bda93e4ba401f90a0faa5b28fe57f   \n",
       "3           3  1aa777fed31a4b8a9d866f05b5477557   \n",
       "4           4  6c67ac55360340258e157f3710ebae6c   \n",
       "\n",
       "                                              title  \\\n",
       "0                       问责领导(上黄镇党委书记张涛，宣国才真能一手遮天吗？)   \n",
       "1                          江歌事件:教会孩子，善良的同时更要懂得保护自己!   \n",
       "2                        绝味鸭脖广告\"开黄腔\"引众怒 \"双11\"这么拼值吗?   \n",
       "3                   央视曝光!如东一医药企业将槽罐车改成垃圾车，夜间偷排高浓度废水   \n",
       "4  恶劣至极，央视都曝光了!南通如东一医药企业将槽罐车改成洒水车，夜间偷排高浓度废水...丢大发了!   \n",
       "\n",
       "                                             content  label  \\\n",
       "0  这几天看了有人举报施某某的贴子，经与举报人联系证实，是宣某当天中午请举报人和枪手喝酒后，晚上...      2   \n",
       "1  过去一年的江歌悲剧，这几日再次刷屏：住在东京都中野区的中国女留学生江歌，收留了被前男友陈世锋...      1   \n",
       "2  “双11”1600亿的销售额让中国乃至全世界感到震惊，为此，不仅有不惜欠债百万的“剁手党”，...      2   \n",
       "3  2016年以来，如东高新区一家叫做拜瑞生物医药的企业竟然将装废水的槽罐车伪装成洒水车，常年在...      2   \n",
       "4  新闻资讯•民生热点•城市生活•南通人都在看浏览更多资讯请关注微信公众号:南通传媒网昨晚央视一...      2   \n",
       "\n",
       "                                         cut_content  nb_result  \n",
       "0  这 几天 看 了 有人 举报 施 某某 的 贴子 ， 经 与 举报人 联系 证实 ， 是 宣...          2  \n",
       "1  过去 一年 的 江歌 悲剧 ， 这 几日 再次 刷屏 ： 住 在 东京都 中野 区 的 中国...          2  \n",
       "2  “ 双 11 ” 1600 亿 的 销售额 让 中国 乃至 全世界 感到 震惊 ， 为此 ，...          2  \n",
       "3  2016 年 以来 ， 如东 高新区 一家 叫做 拜瑞 生物医药 的 企业 竟然 将装 废水...          2  \n",
       "4  新闻资讯 • 民生 热点 • 城市 生活 • 南通人 都 在 看 浏览 更 多 资讯 请 关...          2  "
      ]
     },
     "execution_count": 46,
     "metadata": {},
     "output_type": "execute_result"
    }
   ],
   "source": [
    "table_merge.head()"
   ]
  },
  {
   "cell_type": "code",
   "execution_count": 15,
   "metadata": {},
   "outputs": [],
   "source": [
    "Test_DataSet = pd.read_csv('Test/Test_DataSet.csv', encoding='utf-8')"
   ]
  },
  {
   "cell_type": "code",
   "execution_count": 48,
   "metadata": {},
   "outputs": [
    {
     "data": {
      "text/html": [
       "<div>\n",
       "<style scoped>\n",
       "    .dataframe tbody tr th:only-of-type {\n",
       "        vertical-align: middle;\n",
       "    }\n",
       "\n",
       "    .dataframe tbody tr th {\n",
       "        vertical-align: top;\n",
       "    }\n",
       "\n",
       "    .dataframe thead th {\n",
       "        text-align: right;\n",
       "    }\n",
       "</style>\n",
       "<table border=\"1\" class=\"dataframe\">\n",
       "  <thead>\n",
       "    <tr style=\"text-align: right;\">\n",
       "      <th></th>\n",
       "      <th>id</th>\n",
       "      <th>title</th>\n",
       "      <th>content</th>\n",
       "    </tr>\n",
       "  </thead>\n",
       "  <tbody>\n",
       "    <tr>\n",
       "      <th>0</th>\n",
       "      <td>00005a3efe934a19adc0b69b05faeae7</td>\n",
       "      <td>九江办好人民满意教育</td>\n",
       "      <td>近3年来，九江市紧紧围绕“人本教育、公平教育、优质教育、幸福教育”的目标，努力办好人民满意教...</td>\n",
       "    </tr>\n",
       "    <tr>\n",
       "      <th>1</th>\n",
       "      <td>0009dc82c41341d794837271d4dbff5f</td>\n",
       "      <td>中央第三生态环境保护督察组转办我市第三十一批信访件办理情况</td>\n",
       "      <td>中央第三生态环境保护督察组转办我市的第三十一批信访件共计1件，截至12月11日，已全部办结，...</td>\n",
       "    </tr>\n",
       "    <tr>\n",
       "      <th>2</th>\n",
       "      <td>000f3763b6074588817c9ab90a22a814</td>\n",
       "      <td>大雨天车被淹，保险公司该不该赔？</td>\n",
       "      <td>核心提示：近日，连续的降雨天气造成中心城区部分路段积水严重，一些市民驾车出行涉水时造成车辆被...</td>\n",
       "    </tr>\n",
       "    <tr>\n",
       "      <th>3</th>\n",
       "      <td>00117934dbe240068c95b6d04b08eea7</td>\n",
       "      <td>英特尔新cpu微架构ocean cove曝光</td>\n",
       "      <td>intel在主流平台上确认，今年将推出基于14nm的whiskeylake，明年开始大规模出...</td>\n",
       "    </tr>\n",
       "    <tr>\n",
       "      <th>4</th>\n",
       "      <td>0014cef5ccfa43b3a6b20162a03763fa</td>\n",
       "      <td>公安部侦破一批重大网络赌博案件 德州约局平台成重灾区</td>\n",
       "      <td>2018年4月，公安部指挥河南、北京、广西等地公安机关联合行动，成功侦破北京联众公司棋牌事业...</td>\n",
       "    </tr>\n",
       "  </tbody>\n",
       "</table>\n",
       "</div>"
      ],
      "text/plain": [
       "                                 id                          title  \\\n",
       "0  00005a3efe934a19adc0b69b05faeae7                     九江办好人民满意教育   \n",
       "1  0009dc82c41341d794837271d4dbff5f  中央第三生态环境保护督察组转办我市第三十一批信访件办理情况   \n",
       "2  000f3763b6074588817c9ab90a22a814               大雨天车被淹，保险公司该不该赔？   \n",
       "3  00117934dbe240068c95b6d04b08eea7         英特尔新cpu微架构ocean cove曝光   \n",
       "4  0014cef5ccfa43b3a6b20162a03763fa     公安部侦破一批重大网络赌博案件 德州约局平台成重灾区   \n",
       "\n",
       "                                             content  \n",
       "0  近3年来，九江市紧紧围绕“人本教育、公平教育、优质教育、幸福教育”的目标，努力办好人民满意教...  \n",
       "1  中央第三生态环境保护督察组转办我市的第三十一批信访件共计1件，截至12月11日，已全部办结，...  \n",
       "2  核心提示：近日，连续的降雨天气造成中心城区部分路段积水严重，一些市民驾车出行涉水时造成车辆被...  \n",
       "3  intel在主流平台上确认，今年将推出基于14nm的whiskeylake，明年开始大规模出...  \n",
       "4  2018年4月，公安部指挥河南、北京、广西等地公安机关联合行动，成功侦破北京联众公司棋牌事业...  "
      ]
     },
     "execution_count": 48,
     "metadata": {},
     "output_type": "execute_result"
    }
   ],
   "source": [
    "Test_DataSet.head()"
   ]
  },
  {
   "cell_type": "code",
   "execution_count": 16,
   "metadata": {},
   "outputs": [],
   "source": [
    "# 数据类型转换\n",
    "Test_DataSet['content'] = Test_DataSet['content'].astype('str')\n",
    "# 分词\n",
    "Test_DataSet['cut_content'] = Test_DataSet.content.apply(chinese_word_cut)\n",
    "# 测试\n",
    "result_vect = vect.transform(Test_DataSet['cut_content'])\n",
    "nb_result = nb.predict(result_vect)\n",
    "Test_DataSet['label'] = nb_result"
   ]
  },
  {
   "cell_type": "code",
   "execution_count": 17,
   "metadata": {},
   "outputs": [
    {
     "name": "stdout",
     "output_type": "stream",
     "text": [
      "0       0\n",
      "1       1\n",
      "2       2\n",
      "3       1\n",
      "4       2\n",
      "5       0\n",
      "6       2\n",
      "7       2\n",
      "8       2\n",
      "9       2\n",
      "10      1\n",
      "11      2\n",
      "12      2\n",
      "13      2\n",
      "14      1\n",
      "15      1\n",
      "16      1\n",
      "17      1\n",
      "18      1\n",
      "19      2\n",
      "20      1\n",
      "21      2\n",
      "22      2\n",
      "23      2\n",
      "24      2\n",
      "25      1\n",
      "26      0\n",
      "27      1\n",
      "28      2\n",
      "29      2\n",
      "       ..\n",
      "7326    2\n",
      "7327    1\n",
      "7328    2\n",
      "7329    0\n",
      "7330    1\n",
      "7331    1\n",
      "7332    2\n",
      "7333    2\n",
      "7334    1\n",
      "7335    2\n",
      "7336    2\n",
      "7337    2\n",
      "7338    2\n",
      "7339    1\n",
      "7340    2\n",
      "7341    1\n",
      "7342    2\n",
      "7343    2\n",
      "7344    1\n",
      "7345    2\n",
      "7346    1\n",
      "7347    2\n",
      "7348    2\n",
      "7349    2\n",
      "7350    0\n",
      "7351    1\n",
      "7352    1\n",
      "7353    1\n",
      "7354    1\n",
      "7355    1\n",
      "Name: label, Length: 7356, dtype: int64\n"
     ]
    }
   ],
   "source": [
    "Test_DataSet.head()\n",
    "print(Test_DataSet['label'])"
   ]
  },
  {
   "cell_type": "code",
   "execution_count": 51,
   "metadata": {},
   "outputs": [],
   "source": [
    "# submit_example = pd.read_csv('submit_example.csv', encoding='utf-8')\n",
    "# submit_example.head()"
   ]
  },
  {
   "cell_type": "code",
   "execution_count": 18,
   "metadata": {},
   "outputs": [],
   "source": [
    "Test_DataSet[['id','label']].to_csv('submit.csv', index=False)"
   ]
  },
  {
   "cell_type": "code",
   "execution_count": null,
   "metadata": {},
   "outputs": [],
   "source": []
  }
 ],
 "metadata": {
  "kernelspec": {
   "display_name": "Python 3",
   "language": "python",
   "name": "python3"
  },
  "language_info": {
   "codemirror_mode": {
    "name": "ipython",
    "version": 3
   },
   "file_extension": ".py",
   "mimetype": "text/x-python",
   "name": "python",
   "nbconvert_exporter": "python",
   "pygments_lexer": "ipython3",
   "version": "3.7.0"
  }
 },
 "nbformat": 4,
 "nbformat_minor": 2
}
